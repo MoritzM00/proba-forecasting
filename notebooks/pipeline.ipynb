{
 "cells": [
  {
   "cell_type": "code",
   "execution_count": null,
   "metadata": {},
   "outputs": [],
   "source": [
    "%load_ext autoreload\n",
    "\n",
    "%autoreload 2"
   ]
  },
  {
   "cell_type": "code",
   "execution_count": null,
   "metadata": {},
   "outputs": [],
   "source": [
    "import numpy as np\n",
    "import pandas as pd\n",
    "import seaborn as sns\n",
    "from sktime.forecasting.base import ForecastingHorizon\n",
    "from sktime.forecasting.darts import DartsXGBModel\n",
    "from sktime.split import (\n",
    "    temporal_train_test_split,\n",
    ")\n",
    "\n",
    "from probafcst.backtest import backtest\n",
    "from probafcst.plotting import plot_quantiles\n",
    "\n",
    "sns.set_theme(style=\"ticks\")"
   ]
  },
  {
   "cell_type": "code",
   "execution_count": null,
   "metadata": {},
   "outputs": [],
   "source": [
    "quantile_levels = [0.025, 0.25, 0.5, 0.75, 0.975]"
   ]
  },
  {
   "cell_type": "code",
   "execution_count": null,
   "metadata": {},
   "outputs": [],
   "source": [
    "bikes = pd.read_parquet(\"../data/bikes.parquet\")\n",
    "load = pd.read_parquet(\"../data/energy.parquet\")\n",
    "load = load.asfreq(\"h\")\n",
    "bikes = bikes.asfreq(\"D\")"
   ]
  },
  {
   "cell_type": "code",
   "execution_count": null,
   "metadata": {},
   "outputs": [],
   "source": [
    "from sktime.forecasting.compose import (\n",
    "    RecursiveTabularRegressionForecaster,\n",
    "    TransformedTargetForecaster,\n",
    ")\n",
    "from sktime.transformations.series.fourier import FourierFeatures\n",
    "from sktime.transformations.series.holiday import CountryHolidaysTransformer\n",
    "from sktime.transformations.series.impute import Imputer\n",
    "from sktime.transformations.series.lag import Lag\n",
    "from xgboost import XGBRegressor\n",
    "\n",
    "lags = Lag([-30, -7, -1])\n",
    "holidyas = CountryHolidaysTransformer(country=\"DE\", subdiv=\"BW\")\n",
    "ff = FourierFeatures(sp_list=[7, 90, 365], fourier_terms_list=[4, 1, 1])\n",
    "model = XGBRegressor(\n",
    "    objective=\"reg:quantileerror\",\n",
    "    tree_method=\"hist\",\n",
    "    n_estimators=100,\n",
    "    n_jobs=-1,\n",
    "    quantile_alpha=quantile_levels,\n",
    ")\n",
    "# Does not work, because predict_quantiles needs to be implemented for this model\n",
    "forecaster = RecursiveTabularRegressionForecaster(\n",
    "    model,\n",
    "    window_length=7,\n",
    ")\n",
    "forecaster.set_tags(**{\"capability:pred_int\": True})\n",
    "\n",
    "pipeline = TransformedTargetForecaster(\n",
    "    [\n",
    "        (\"lags\", lags),\n",
    "        (\"holidays\", holidyas),\n",
    "        (\"fourier\", ff),\n",
    "        (\"imputer\", Imputer(method=\"nearest\")),\n",
    "        (\"forecaster\", forecaster),\n",
    "    ],\n",
    ")\n",
    "pipeline.set_tags(**{\"capability:pred_int\": True})"
   ]
  },
  {
   "cell_type": "code",
   "execution_count": null,
   "metadata": {},
   "outputs": [],
   "source": [
    "from sktime.forecasting.darts import DartsLinearRegressionModel\n",
    "from sktime.performance_metrics.forecasting.probabilistic import PinballLoss\n",
    "\n",
    "forecaster = DartsLinearRegressionModel(\n",
    "    lags=[-7, -30, -365],\n",
    "    lags_future_covariates=[-7, -30, -365, *list(range(30))],\n",
    "    add_encoders={\"cyclic\": {\"future\": [\"day\", \"month\", \"day_of_year\", \"quarter\"]}},\n",
    "    output_chunk_length=7,\n",
    "    quantiles=quantile_levels,\n",
    "    likelihood=\"quantile\",\n",
    "    multi_models=False,\n",
    ")\n",
    "\n",
    "y_train, y_test = temporal_train_test_split(bikes, test_size=30)\n",
    "fh = ForecastingHorizon(y_test.index, is_relative=False)\n",
    "forecaster.fit(y_train, fh=fh.to_relative(y_train.index[-1]))\n",
    "pred_quantiles = forecaster.predict_quantiles(fh, alpha=quantile_levels)\n",
    "PinballLoss()(y_test, pred_quantiles)"
   ]
  },
  {
   "cell_type": "code",
   "execution_count": null,
   "metadata": {},
   "outputs": [],
   "source": [
    "backtest(\n",
    "    pipeline,\n",
    "    bikes,\n",
    "    forecast_steps=30,\n",
    "    quantiles=quantile_levels,\n",
    "    initial_window=365 * 3,\n",
    "    step_length=90,\n",
    "    backend=\"loky\",\n",
    ")"
   ]
  },
  {
   "cell_type": "code",
   "execution_count": null,
   "metadata": {},
   "outputs": [],
   "source": [
    "y_train, y_test = temporal_train_test_split(\n",
    "    load.iloc[-24 * 365 * 3 :], test_size=24 * 14\n",
    ")\n",
    "fh = ForecastingHorizon(y_test.index, is_relative=False)\n",
    "output_chunk_length = 1  # len(splitter.fh)\n",
    "forecaster = DartsXGBModel(\n",
    "    lags=[-24, -24 * 7],\n",
    "    likelihood=\"quantile\",\n",
    "    quantiles=quantile_levels,\n",
    "    multi_models=False,\n",
    "    output_chunk_length=output_chunk_length,\n",
    ")\n",
    "forecaster.fit(y_train)"
   ]
  },
  {
   "cell_type": "code",
   "execution_count": null,
   "metadata": {},
   "outputs": [],
   "source": [
    "pred_quantiles = forecaster.predict_quantiles(fh, alpha=quantile_levels)\n",
    "plot_quantiles(y_test, pred_quantiles)"
   ]
  },
  {
   "cell_type": "markdown",
   "metadata": {},
   "source": [
    "## Backtesting\n"
   ]
  },
  {
   "cell_type": "code",
   "execution_count": null,
   "metadata": {},
   "outputs": [],
   "source": [
    "output_chunk_length = 24 * 14\n",
    "add_encoders = {\n",
    "    \"cyclic\": {\"future\": [\"hour\", \"day\", \"month\", \"day_of_year\"]},\n",
    "}\n",
    "forecaster = DartsXGBModel(\n",
    "    lags=[-24, -24 * 7],\n",
    "    likelihood=\"quantile\",\n",
    "    quantiles=quantile_levels,\n",
    "    multi_models=False,\n",
    "    # add_encoders=add_encoders,\n",
    "    output_chunk_length=output_chunk_length,\n",
    "    # lags_future_covariates=[-24 * 30, -24 * 7, -24, 0, 24, 24 * 7, 24 * 30],\n",
    "    kwargs={\"n_jobs\": 1},\n",
    ")"
   ]
  },
  {
   "cell_type": "code",
   "execution_count": null,
   "metadata": {},
   "outputs": [],
   "source": [
    "CountryHolidaysTransformer(country=\"DE\").fit_transform(load)"
   ]
  },
  {
   "cell_type": "code",
   "execution_count": null,
   "metadata": {},
   "outputs": [],
   "source": [
    "from sktime.forecasting.compose import ForecastingPipeline\n",
    "from sktime.transformations.compose import YtoX\n",
    "\n",
    "ff = FourierFeatures(\n",
    "    sp_list=[24, 24 * 7, 24 * 365], fourier_terms_list=[1, 1, 1], freq=\"h\"\n",
    ")\n",
    "pipeline = ForecastingPipeline(\n",
    "    [\n",
    "        YtoX(),\n",
    "        ff,\n",
    "        # CountryHolidaysTransformer(country=\"DE\", subdiv=\"BW\"),\n",
    "        forecaster,\n",
    "    ]\n",
    ")\n",
    "pipeline.fit(load)\n",
    "y_pred = pipeline.predict_quantiles(np.arange(1, 168), alpha=quantile_levels)\n",
    "plot_quantiles(load.loc[\"2024-11-01\":], y_pred)"
   ]
  },
  {
   "cell_type": "code",
   "execution_count": null,
   "metadata": {},
   "outputs": [],
   "source": [
    "results, metrics, predictions, add_metrics = backtest(\n",
    "    pipeline,\n",
    "    y=load,\n",
    "    X=None,\n",
    "    forecast_steps=24 * 14,\n",
    "    quantiles=quantile_levels,\n",
    "    initial_window=24 * 365 * 3,\n",
    "    step_length=24 * 30 * 3,\n",
    "    # backend=\"loky\",\n",
    ")"
   ]
  },
  {
   "cell_type": "code",
   "execution_count": null,
   "metadata": {},
   "outputs": [],
   "source": [
    "results"
   ]
  },
  {
   "cell_type": "code",
   "execution_count": null,
   "metadata": {},
   "outputs": [],
   "source": [
    "sns.set_theme(style=\"ticks\")"
   ]
  },
  {
   "cell_type": "code",
   "execution_count": null,
   "metadata": {},
   "outputs": [],
   "source": [
    "# create box plots for each quantile loss using results frame\n",
    "# use melt for this\n",
    "melted = results[quantile_levels].melt(var_name=\"quantile\", value_name=\"loss\")\n",
    "melted[\"quantile\"] = melted[\"quantile\"].apply(lambda x: f\"q{x}\")\n",
    "ax = sns.boxplot(data=melted, x=\"quantile\", y=\"loss\", hue=\"quantile\")"
   ]
  },
  {
   "cell_type": "code",
   "execution_count": null,
   "metadata": {},
   "outputs": [],
   "source": [
    "metrics"
   ]
  },
  {
   "cell_type": "code",
   "execution_count": null,
   "metadata": {},
   "outputs": [],
   "source": [
    "# plot each forecast period\n",
    "nrows = min(3, len(results))\n",
    "for i, row in predictions.iloc[-nrows:].iterrows():\n",
    "    plot_quantiles(row.y_test, row.y_pred_quantiles)"
   ]
  },
  {
   "cell_type": "code",
   "execution_count": null,
   "metadata": {},
   "outputs": [],
   "source": []
  }
 ],
 "metadata": {
  "kernelspec": {
   "display_name": ".venv",
   "language": "python",
   "name": "python3"
  },
  "language_info": {
   "codemirror_mode": {
    "name": "ipython",
    "version": 3
   },
   "file_extension": ".py",
   "mimetype": "text/x-python",
   "name": "python",
   "nbconvert_exporter": "python",
   "pygments_lexer": "ipython3",
   "version": "3.10.13"
  }
 },
 "nbformat": 4,
 "nbformat_minor": 2
}
