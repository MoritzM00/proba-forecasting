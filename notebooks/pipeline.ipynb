{
 "cells": [
  {
   "cell_type": "code",
   "execution_count": null,
   "metadata": {},
   "outputs": [],
   "source": [
    "%load_ext autoreload\n",
    "\n",
    "%autoreload 2"
   ]
  },
  {
   "cell_type": "code",
   "execution_count": null,
   "metadata": {},
   "outputs": [],
   "source": [
    "import numpy as np\n",
    "import pandas as pd\n",
    "import seaborn as sns\n",
    "from sktime.forecasting.base import ForecastingHorizon\n",
    "from sktime.forecasting.model_evaluation import evaluate\n",
    "from sktime.performance_metrics.forecasting.probabilistic import (\n",
    "    PinballLoss,\n",
    ")\n",
    "from sktime.split import (\n",
    "    ExpandingWindowSplitter,\n",
    "    temporal_train_test_split,\n",
    ")\n",
    "from sktime.utils.plotting import plot_windows\n",
    "\n",
    "from probafcst.models import BenchmarkForecaster\n",
    "from probafcst.plotting import plot_quantiles\n",
    "\n",
    "sns.set_theme(style=\"ticks\")"
   ]
  },
  {
   "cell_type": "code",
   "execution_count": null,
   "metadata": {},
   "outputs": [],
   "source": [
    "bikes = pd.read_parquet(\"../data/bikes.parquet\")\n",
    "load = pd.read_parquet(\"../data/energy.parquet\")"
   ]
  },
  {
   "cell_type": "code",
   "execution_count": null,
   "metadata": {},
   "outputs": [],
   "source": [
    "load.tail()"
   ]
  },
  {
   "cell_type": "code",
   "execution_count": null,
   "metadata": {},
   "outputs": [],
   "source": [
    "# get 3 years as hours\n"
   ]
  },
  {
   "cell_type": "code",
   "execution_count": null,
   "metadata": {},
   "outputs": [],
   "source": [
    "splitter = ExpandingWindowSplitter(\n",
    "    fh=ForecastingHorizon(np.arange(1, 24 * 7)),\n",
    "    initial_window=24 * 365 * 3,  # 3 years\n",
    "    step_length=24 * 30 * 3,\n",
    ")\n",
    "len(list(splitter.split(load)))"
   ]
  },
  {
   "cell_type": "code",
   "execution_count": null,
   "metadata": {},
   "outputs": [],
   "source": [
    "plot_windows(splitter, load)"
   ]
  },
  {
   "cell_type": "code",
   "execution_count": null,
   "metadata": {},
   "outputs": [],
   "source": [
    "y_train, y_test = temporal_train_test_split(load, test_size=24 * 7)\n",
    "fh = ForecastingHorizon(y_test.index, is_relative=False)\n",
    "# forecaster = NaiveForecaster(strategy=\"mean\", sp=24, window_length=24 * 7 * 3)\n",
    "forecaster = BenchmarkForecaster(n_weeks=100)\n",
    "forecaster.fit(y_train)\n",
    "\n",
    "quantile_levels = [0.025, 0.25, 0.5, 0.75, 0.975]\n",
    "pred_quantiles = forecaster.predict_quantiles(fh, alpha=quantile_levels)\n",
    "pred_quantiles.head()"
   ]
  },
  {
   "cell_type": "code",
   "execution_count": null,
   "metadata": {},
   "outputs": [],
   "source": [
    "forecaster.predict_interval(fh, coverage=[0.5, 0.95])"
   ]
  },
  {
   "cell_type": "code",
   "execution_count": null,
   "metadata": {},
   "outputs": [],
   "source": [
    "# forecaster = NaiveForecaster(strategy=\"mean\", sp=24 * 7)\n",
    "results = evaluate(\n",
    "    forecaster,\n",
    "    splitter,\n",
    "    load,\n",
    "    strategy=\"refit\",\n",
    "    scoring=PinballLoss(alpha=quantile_levels),\n",
    "    return_data=True,\n",
    ")\n",
    "results.head()"
   ]
  },
  {
   "cell_type": "code",
   "execution_count": null,
   "metadata": {},
   "outputs": [],
   "source": [
    "results.iloc[:, :-3]"
   ]
  },
  {
   "cell_type": "code",
   "execution_count": null,
   "metadata": {},
   "outputs": [],
   "source": [
    "# plot each forecast period\n",
    "nrows = min(3, len(results))\n",
    "for i, row in results.iloc[-nrows:].iterrows():\n",
    "    plot_quantiles(row.y_test, row.y_pred_quantiles)"
   ]
  },
  {
   "cell_type": "code",
   "execution_count": null,
   "metadata": {},
   "outputs": [],
   "source": []
  }
 ],
 "metadata": {
  "kernelspec": {
   "display_name": ".venv",
   "language": "python",
   "name": "python3"
  },
  "language_info": {
   "codemirror_mode": {
    "name": "ipython",
    "version": 3
   },
   "file_extension": ".py",
   "mimetype": "text/x-python",
   "name": "python",
   "nbconvert_exporter": "python",
   "pygments_lexer": "ipython3",
   "version": "3.10.13"
  }
 },
 "nbformat": 4,
 "nbformat_minor": 2
}
