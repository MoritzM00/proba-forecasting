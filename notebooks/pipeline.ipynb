{
 "cells": [
  {
   "cell_type": "code",
   "execution_count": null,
   "metadata": {},
   "outputs": [],
   "source": [
    "%load_ext autoreload\n",
    "\n",
    "%autoreload 2"
   ]
  },
  {
   "cell_type": "code",
   "execution_count": null,
   "metadata": {},
   "outputs": [],
   "source": [
    "import numpy as np\n",
    "import pandas as pd\n",
    "import seaborn as sns\n",
    "from sktime.forecasting.base import ForecastingHorizon\n",
    "from sktime.forecasting.model_evaluation import evaluate\n",
    "from sktime.forecasting.naive import NaiveForecaster\n",
    "from sktime.performance_metrics.forecasting.probabilistic import PinballLoss\n",
    "from sktime.split import (\n",
    "    ExpandingWindowSplitter,\n",
    "    temporal_train_test_split,\n",
    ")\n",
    "from sktime.utils import plotting\n",
    "from sktime.utils.plotting import plot_windows\n",
    "\n",
    "from probafcst.model import BenchmarkForecaster\n",
    "from probafcst.plotting import plot_quantiles\n",
    "from probafcst.utils.time import get_forecast_dates\n",
    "\n",
    "sns.set_theme(style=\"ticks\")"
   ]
  },
  {
   "cell_type": "code",
   "execution_count": null,
   "metadata": {},
   "outputs": [],
   "source": [
    "bikes = pd.read_parquet(\"../data/bikes.parquet\")\n",
    "load = pd.read_parquet(\"../data/energy.parquet\")"
   ]
  },
  {
   "cell_type": "code",
   "execution_count": null,
   "metadata": {},
   "outputs": [],
   "source": [
    "load.tail()"
   ]
  },
  {
   "cell_type": "code",
   "execution_count": null,
   "metadata": {},
   "outputs": [],
   "source": [
    "# get 3 years as hours\n"
   ]
  },
  {
   "cell_type": "code",
   "execution_count": null,
   "metadata": {},
   "outputs": [],
   "source": [
    "splitter = ExpandingWindowSplitter(\n",
    "    fh=ForecastingHorizon(np.arange(1, 24 * 7)),\n",
    "    initial_window=24 * 365 * 3,  # 3 years\n",
    "    step_length=24 * 30 * 9,  # 9 months\n",
    ")\n",
    "len(list(splitter.split(load)))"
   ]
  },
  {
   "cell_type": "code",
   "execution_count": null,
   "metadata": {},
   "outputs": [],
   "source": [
    "plot_windows(splitter, load)"
   ]
  },
  {
   "cell_type": "code",
   "execution_count": null,
   "metadata": {},
   "outputs": [],
   "source": [
    "y_train, y_test = temporal_train_test_split(load, test_size=24 * 7)\n",
    "fh = ForecastingHorizon(y_test.index, is_relative=False)\n",
    "# forecaster = NaiveForecaster(strategy=\"mean\", sp=24, window_length=24 * 7 * 3)\n",
    "forecaster = BenchmarkForecaster(n_weeks=100)\n",
    "forecaster.fit(y_train)\n",
    "\n",
    "quantile_levels = [0.025, 0.25, 0.5, 0.75, 0.975]\n",
    "y_pred = forecaster.predict_quantiles(fh, alpha=quantile_levels)"
   ]
  },
  {
   "cell_type": "code",
   "execution_count": null,
   "metadata": {},
   "outputs": [],
   "source": [
    "y_pred"
   ]
  },
  {
   "cell_type": "code",
   "execution_count": null,
   "metadata": {},
   "outputs": [],
   "source": [
    "# forecaster = NaiveForecaster(strategy=\"mean\", sp=24 * 7)\n",
    "results = evaluate(\n",
    "    forecaster,\n",
    "    splitter,\n",
    "    load,\n",
    "    strategy=\"refit\",\n",
    "    scoring=PinballLoss(alpha=quantile_levels),\n",
    "    return_data=True,\n",
    ")\n",
    "results"
   ]
  },
  {
   "cell_type": "code",
   "execution_count": null,
   "metadata": {},
   "outputs": [],
   "source": [
    "# plot each forecast period\n",
    "nrows = min(3, len(results))\n",
    "for i, row in results.iloc[-nrows:].iterrows():\n",
    "    plot_quantiles(row.y_test, row.y_pred_quantiles)"
   ]
  },
  {
   "cell_type": "code",
   "execution_count": null,
   "metadata": {},
   "outputs": [],
   "source": [
    "columns = [y_pred[i] for i in y_pred.columns]\n",
    "fig, ax = plotting.plot_series(y_test, *columns)"
   ]
  },
  {
   "cell_type": "code",
   "execution_count": null,
   "metadata": {},
   "outputs": [],
   "source": [
    "loss = PinballLoss(score_average=True)\n",
    "loss(y_test, y_pred)"
   ]
  },
  {
   "cell_type": "code",
   "execution_count": null,
   "metadata": {},
   "outputs": [],
   "source": [
    "# make a submission\n",
    "\n",
    "timestamps, forecast_hours = get_forecast_dates(load.index[-1])\n",
    "print(forecast_hours)\n",
    "forecaster.fit(load)\n",
    "fh = ForecastingHorizon(forecast_hours, is_relative=True)\n",
    "y_pred = forecaster.predict_quantiles(fh, alpha=quantile_levels)\n",
    "y_pred"
   ]
  },
  {
   "cell_type": "code",
   "execution_count": null,
   "metadata": {},
   "outputs": [],
   "source": [
    "# plot the forecast\n",
    "columns = [y_pred[i] for i in y_pred.columns]\n",
    "fig, ax = plotting.plot_series(y_test, *columns)"
   ]
  },
  {
   "cell_type": "code",
   "execution_count": null,
   "metadata": {},
   "outputs": [],
   "source": [
    "bikes = bikes.asfreq(\"D\").interpolate()"
   ]
  },
  {
   "cell_type": "code",
   "execution_count": null,
   "metadata": {},
   "outputs": [],
   "source": [
    "# forecast bikes\n",
    "fh = np.arange(2, 8)\n",
    "forecaster = NaiveForecaster(strategy=\"mean\", sp=7, window_length=90)\n",
    "forecaster.fit(bikes)\n",
    "y_pred_bikes = forecaster.predict_quantiles(fh, alpha=quantile_levels)\n",
    "\n",
    "# plot the forecast\n",
    "columns = [y_pred_bikes[i] for i in y_pred_bikes.columns]\n",
    "fig, ax = plotting.plot_series(bikes.iloc[-90:], *columns)"
   ]
  },
  {
   "cell_type": "code",
   "execution_count": null,
   "metadata": {},
   "outputs": [],
   "source": [
    "y_pred_bikes"
   ]
  },
  {
   "cell_type": "code",
   "execution_count": null,
   "metadata": {},
   "outputs": [],
   "source": [
    "from probafcst.utils import create_submission\n",
    "\n",
    "create_submission(energy_preds=y_pred.values, bikes_preds=y_pred_bikes.values)"
   ]
  },
  {
   "cell_type": "code",
   "execution_count": null,
   "metadata": {},
   "outputs": [],
   "source": []
  }
 ],
 "metadata": {
  "kernelspec": {
   "display_name": ".venv",
   "language": "python",
   "name": "python3"
  },
  "language_info": {
   "codemirror_mode": {
    "name": "ipython",
    "version": 3
   },
   "file_extension": ".py",
   "mimetype": "text/x-python",
   "name": "python",
   "nbconvert_exporter": "python",
   "pygments_lexer": "ipython3",
   "version": "3.10.13"
  }
 },
 "nbformat": 4,
 "nbformat_minor": 2
}
