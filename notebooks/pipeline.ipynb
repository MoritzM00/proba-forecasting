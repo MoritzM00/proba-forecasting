{
 "cells": [
  {
   "cell_type": "code",
   "execution_count": null,
   "metadata": {},
   "outputs": [],
   "source": [
    "%load_ext autoreload\n",
    "\n",
    "%autoreload 2"
   ]
  },
  {
   "cell_type": "code",
   "execution_count": null,
   "metadata": {},
   "outputs": [],
   "source": [
    "import numpy as np\n",
    "import pandas as pd\n",
    "import seaborn as sns\n",
    "from darts import TimeSeries\n",
    "from darts.metrics import mql\n",
    "from darts.models.forecasting.linear_regression_model import LinearRegressionModel\n",
    "from sktime.forecasting.base import ForecastingHorizon\n",
    "from sktime.forecasting.model_evaluation import evaluate\n",
    "from sktime.performance_metrics.forecasting.probabilistic import (\n",
    "    PinballLoss,\n",
    ")\n",
    "from sktime.split import (\n",
    "    ExpandingWindowSplitter,\n",
    "    temporal_train_test_split,\n",
    ")\n",
    "\n",
    "from probafcst.models import BenchmarkForecaster\n",
    "from probafcst.plotting import plot_quantiles\n",
    "\n",
    "sns.set_theme(style=\"ticks\")"
   ]
  },
  {
   "cell_type": "code",
   "execution_count": null,
   "metadata": {},
   "outputs": [],
   "source": [
    "bikes = pd.read_parquet(\"../data/bikes.parquet\")\n",
    "load = pd.read_parquet(\"../data/energy.parquet\")"
   ]
  },
  {
   "cell_type": "code",
   "execution_count": null,
   "metadata": {},
   "outputs": [],
   "source": [
    "ts = TimeSeries.from_series(bikes.bike_count)\n",
    "\n",
    "quantile_levels = [0.025, 0.25, 0.5, 0.75, 0.975]\n",
    "train, test = ts.split_after(0.95)\n",
    "forecaster = LinearRegressionModel(\n",
    "    lags=[-24, -24 * 7],\n",
    "    likelihood=\"quantile\",\n",
    "    quantiles=quantile_levels,\n",
    "    multi_models=False,\n",
    "    output_chunk_length=len(test),\n",
    "    add_encoders={\n",
    "        \"cyclic\": {\"future\": [\"month\"]},\n",
    "        \"datetime_attribute\": {\"future\": [\"dayofmonth\", \"dayofweek\"]},\n",
    "    },\n",
    ")\n",
    "forecaster.fit(train)"
   ]
  },
  {
   "cell_type": "code",
   "execution_count": null,
   "metadata": {},
   "outputs": [],
   "source": [
    "y_pred = forecaster.predict(\n",
    "    n=len(test), series=train, predict_likelihood_parameters=True\n",
    ")\n",
    "\n",
    "test.plot()\n",
    "y_pred.plot()"
   ]
  },
  {
   "cell_type": "code",
   "execution_count": null,
   "metadata": {},
   "outputs": [],
   "source": [
    "mql(test, y_pred, q=quantile_levels).mean()"
   ]
  },
  {
   "cell_type": "code",
   "execution_count": null,
   "metadata": {},
   "outputs": [],
   "source": [
    "splitter = ExpandingWindowSplitter(\n",
    "    fh=ForecastingHorizon(np.arange(1, 24 * 7)),\n",
    "    initial_window=24 * 365 * 3,  # 3 years\n",
    "    step_length=24 * 30 * 3,\n",
    ")\n",
    "len(list(splitter.split(load)))"
   ]
  },
  {
   "cell_type": "code",
   "execution_count": null,
   "metadata": {},
   "outputs": [],
   "source": [
    "y_train, y_test = temporal_train_test_split(\n",
    "    load.iloc[-24 * 365 * 3 :], test_size=24 * 14\n",
    ")\n",
    "print(len(y_train), len(y_test))\n",
    "fh = ForecastingHorizon(y_test.index, is_relative=False)\n",
    "forecaster = BenchmarkForecaster(n_weeks=75)\n",
    "forecaster.fit(y_train)"
   ]
  },
  {
   "cell_type": "code",
   "execution_count": null,
   "metadata": {},
   "outputs": [],
   "source": [
    "pred_quantiles = forecaster.predict_quantiles(fh, alpha=quantile_levels)\n",
    "plot_quantiles(y_test, pred_quantiles)"
   ]
  },
  {
   "cell_type": "code",
   "execution_count": null,
   "metadata": {},
   "outputs": [],
   "source": [
    "results = evaluate(\n",
    "    forecaster,\n",
    "    splitter,\n",
    "    load,\n",
    "    strategy=\"refit\",\n",
    "    scoring=PinballLoss(score_average=False, alpha=quantile_levels),\n",
    "    return_data=True,\n",
    ")\n",
    "results.head()"
   ]
  },
  {
   "cell_type": "code",
   "execution_count": null,
   "metadata": {},
   "outputs": [],
   "source": [
    "# each entry in test_PinballLoss is a Series with the quantile levels as index\n",
    "# expand them into columns\n",
    "results = pd.concat(\n",
    "    [\n",
    "        results.drop(columns=\"test_PinballLoss\"),\n",
    "        results[\"test_PinballLoss\"].apply(pd.Series),\n",
    "    ],\n",
    "    axis=1,\n",
    ")\n",
    "results"
   ]
  },
  {
   "cell_type": "code",
   "execution_count": null,
   "metadata": {},
   "outputs": [],
   "source": [
    "results[quantile_levels].mean(axis=0)"
   ]
  },
  {
   "cell_type": "code",
   "execution_count": null,
   "metadata": {},
   "outputs": [],
   "source": [
    "results[quantile_levels].mean(axis=None)"
   ]
  },
  {
   "cell_type": "code",
   "execution_count": null,
   "metadata": {},
   "outputs": [],
   "source": [
    "results.iloc[:, :-3]"
   ]
  },
  {
   "cell_type": "code",
   "execution_count": null,
   "metadata": {},
   "outputs": [],
   "source": [
    "# plot each forecast period\n",
    "nrows = min(3, len(results))\n",
    "for i, row in results.iloc[-nrows:].iterrows():\n",
    "    plot_quantiles(row.y_test, row.y_pred_quantiles)"
   ]
  },
  {
   "cell_type": "code",
   "execution_count": null,
   "metadata": {},
   "outputs": [],
   "source": []
  }
 ],
 "metadata": {
  "kernelspec": {
   "display_name": ".venv",
   "language": "python",
   "name": "python3"
  },
  "language_info": {
   "codemirror_mode": {
    "name": "ipython",
    "version": 3
   },
   "file_extension": ".py",
   "mimetype": "text/x-python",
   "name": "python",
   "nbconvert_exporter": "python",
   "pygments_lexer": "ipython3",
   "version": "3.10.13"
  }
 },
 "nbformat": 4,
 "nbformat_minor": 2
}
