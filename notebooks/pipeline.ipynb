{
 "cells": [
  {
   "cell_type": "code",
   "execution_count": null,
   "metadata": {},
   "outputs": [],
   "source": [
    "%load_ext autoreload\n",
    "\n",
    "%autoreload 2"
   ]
  },
  {
   "cell_type": "code",
   "execution_count": null,
   "metadata": {},
   "outputs": [],
   "source": [
    "from loguru import logger\n",
    "\n",
    "logger.enable(\"probafcst\")"
   ]
  },
  {
   "cell_type": "code",
   "execution_count": null,
   "metadata": {},
   "outputs": [],
   "source": [
    "import pandas as pd\n",
    "import seaborn as sns\n",
    "\n",
    "from probafcst.backtest import backtest\n",
    "from probafcst.models.lgbm import LGBMQuantileForecaster\n",
    "from probafcst.plotting import plot_quantiles\n",
    "\n",
    "sns.set_theme(style=\"ticks\")"
   ]
  },
  {
   "cell_type": "code",
   "execution_count": null,
   "metadata": {},
   "outputs": [],
   "source": [
    "quantile_levels = [0.025, 0.25, 0.5, 0.75, 0.975]"
   ]
  },
  {
   "cell_type": "code",
   "execution_count": null,
   "metadata": {},
   "outputs": [],
   "source": [
    "bikes = pd.read_parquet(\"../data/bikes.parquet\")\n",
    "load = pd.read_parquet(\"../data/energy.parquet\")\n",
    "load = load.asfreq(\"h\").dropna()\n",
    "bikes = bikes.asfreq(\"D\").dropna()"
   ]
  },
  {
   "cell_type": "code",
   "execution_count": null,
   "metadata": {},
   "outputs": [],
   "source": [
    "bikes = bikes.loc[\"2021\":]\n",
    "load = load.loc[\"2021\":]"
   ]
  },
  {
   "cell_type": "markdown",
   "metadata": {},
   "source": [
    "## Backtesting\n"
   ]
  },
  {
   "cell_type": "code",
   "execution_count": null,
   "metadata": {},
   "outputs": [],
   "source": [
    "model = LGBMQuantileForecaster(\n",
    "    lags=[1, 2, 3, 4, 5, 6, 7, 14, 21],\n",
    "    quantiles=quantile_levels,\n",
    "    kwargs={\"n_estimators\": 100, \"random_state\": 42, \"verbose\": -1},\n",
    ")"
   ]
  },
  {
   "cell_type": "code",
   "execution_count": null,
   "metadata": {},
   "outputs": [],
   "source": [
    "use_bikes = False\n",
    "\n",
    "if use_bikes:\n",
    "    X = bikes.drop(columns=\"bike_count\")\n",
    "    y = bikes[\"bike_count\"]\n",
    "    DAY_HOURS = 1\n",
    "else:\n",
    "    X = load.drop(columns=\"load\")\n",
    "    y = load[\"load\"]\n",
    "    DAY_HOURS = 24"
   ]
  },
  {
   "cell_type": "code",
   "execution_count": null,
   "metadata": {},
   "outputs": [],
   "source": [
    "results, metrics, predictions, add_metrics = backtest(\n",
    "    model,\n",
    "    y=y,\n",
    "    X=X,\n",
    "    forecast_steps=DAY_HOURS * 7,\n",
    "    quantiles=quantile_levels,\n",
    "    initial_window=DAY_HOURS * 365 * 3,\n",
    "    step_length=DAY_HOURS * 7,\n",
    "    backend=\"loky\",\n",
    ")"
   ]
  },
  {
   "cell_type": "code",
   "execution_count": null,
   "metadata": {},
   "outputs": [],
   "source": [
    "sns.set_theme(style=\"ticks\")"
   ]
  },
  {
   "cell_type": "code",
   "execution_count": null,
   "metadata": {},
   "outputs": [],
   "source": [
    "# create box plots for each quantile loss using results frame\n",
    "# use melt for this\n",
    "melted = results[quantile_levels].melt(var_name=\"quantile\", value_name=\"loss\")\n",
    "melted[\"quantile\"] = melted[\"quantile\"].apply(lambda x: f\"q{x}\")\n",
    "ax = sns.boxplot(data=melted, x=\"quantile\", y=\"loss\", hue=\"quantile\")"
   ]
  },
  {
   "cell_type": "code",
   "execution_count": null,
   "metadata": {},
   "outputs": [],
   "source": [
    "metrics"
   ]
  },
  {
   "cell_type": "code",
   "execution_count": null,
   "metadata": {},
   "outputs": [],
   "source": [
    "results.head()"
   ]
  },
  {
   "cell_type": "code",
   "execution_count": null,
   "metadata": {},
   "outputs": [],
   "source": [
    "results.tail()"
   ]
  },
  {
   "cell_type": "code",
   "execution_count": null,
   "metadata": {},
   "outputs": [],
   "source": [
    "# plot each forecast period\n",
    "nrows = min(3, len(results))\n",
    "for i, row in predictions.iloc[-nrows:].iterrows():\n",
    "    plot_quantiles(row.y_test, row.y_pred_quantiles)"
   ]
  },
  {
   "cell_type": "code",
   "execution_count": null,
   "metadata": {},
   "outputs": [],
   "source": []
  }
 ],
 "metadata": {
  "kernelspec": {
   "display_name": ".venv",
   "language": "python",
   "name": "python3"
  },
  "language_info": {
   "codemirror_mode": {
    "name": "ipython",
    "version": 3
   },
   "file_extension": ".py",
   "mimetype": "text/x-python",
   "name": "python",
   "nbconvert_exporter": "python",
   "pygments_lexer": "ipython3",
   "version": "3.10.13"
  }
 },
 "nbformat": 4,
 "nbformat_minor": 2
}
