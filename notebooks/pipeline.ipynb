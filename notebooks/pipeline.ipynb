{
 "cells": [
  {
   "cell_type": "code",
   "execution_count": null,
   "metadata": {},
   "outputs": [],
   "source": [
    "%load_ext autoreload\n",
    "\n",
    "%autoreload 2"
   ]
  },
  {
   "cell_type": "code",
   "execution_count": null,
   "metadata": {},
   "outputs": [],
   "source": [
    "from loguru import logger\n",
    "\n",
    "logger.enable(\"probafcst\")"
   ]
  },
  {
   "cell_type": "code",
   "execution_count": null,
   "metadata": {},
   "outputs": [],
   "source": [
    "import pandas as pd\n",
    "import seaborn as sns\n",
    "\n",
    "from probafcst.backtest import backtest\n",
    "from probafcst.models.xgboost import XGBQuantileForecaster\n",
    "\n",
    "sns.set_theme(style=\"ticks\")"
   ]
  },
  {
   "cell_type": "code",
   "execution_count": null,
   "metadata": {},
   "outputs": [],
   "source": [
    "quantile_levels = [0.025, 0.25, 0.5, 0.75, 0.975]"
   ]
  },
  {
   "cell_type": "code",
   "execution_count": null,
   "metadata": {},
   "outputs": [],
   "source": [
    "bikes = pd.read_parquet(\"../data/bikes.parquet\")\n",
    "load = pd.read_parquet(\"../data/energy.parquet\")\n",
    "load = load.asfreq(\"h\").dropna()\n",
    "bikes = bikes.asfreq(\"D\").dropna()"
   ]
  },
  {
   "cell_type": "code",
   "execution_count": null,
   "metadata": {},
   "outputs": [],
   "source": [
    "bikes.tail()"
   ]
  },
  {
   "cell_type": "code",
   "execution_count": null,
   "metadata": {},
   "outputs": [],
   "source": [
    "bikes = bikes.loc[\"2021\":]\n",
    "load = load.loc[\"2021\":]"
   ]
  },
  {
   "cell_type": "markdown",
   "metadata": {},
   "source": [
    "## Backtesting\n"
   ]
  },
  {
   "cell_type": "code",
   "execution_count": null,
   "metadata": {},
   "outputs": [],
   "source": [
    "# model = LGBMQuantileForecaster(\n",
    "#     lags=[1, 2, 3, 4, 5, 6, 7, 14, 21],\n",
    "#     quantiles=quantile_levels,\n",
    "#     kwargs={\"n_estimators\": 100, \"random_state\": 42, \"verbose\": -1},\n",
    "# )\n",
    "model = XGBQuantileForecaster(\n",
    "    lags=[24, 48, 72, 96, 120, 144, 168, 336],\n",
    "    quantiles=quantile_levels,\n",
    "    include_seasonal_dummies=True,\n",
    "    cyclical_encodings=True,\n",
    "    include_rolling_stats=True,\n",
    "    X_lag_cols=[],\n",
    "    kwargs={\"n_estimators\": 100, \"random_state\": 0},\n",
    ")"
   ]
  },
  {
   "cell_type": "code",
   "execution_count": null,
   "metadata": {},
   "outputs": [],
   "source": [
    "use_bikes = True\n",
    "\n",
    "if use_bikes:\n",
    "    X = bikes.drop(columns=\"bike_count\")\n",
    "    y = bikes[\"bike_count\"]\n",
    "    DAY_HOURS = 1\n",
    "else:\n",
    "    X = load.drop(columns=\"load\")\n",
    "    y = load[\"load\"]\n",
    "    DAY_HOURS = 24"
   ]
  },
  {
   "cell_type": "code",
   "execution_count": null,
   "metadata": {},
   "outputs": [],
   "source": [
    "results, metrics, predictions, add_metrics = backtest(\n",
    "    model,\n",
    "    y=y,\n",
    "    X=X,\n",
    "    forecast_steps=DAY_HOURS * 7,\n",
    "    quantiles=quantile_levels,\n",
    "    initial_window=DAY_HOURS * 365 * 3,\n",
    "    step_length=DAY_HOURS * 90,\n",
    "    backend=\"loky\",\n",
    ")"
   ]
  },
  {
   "cell_type": "code",
   "execution_count": null,
   "metadata": {},
   "outputs": [],
   "source": [
    "metrics"
   ]
  },
  {
   "cell_type": "code",
   "execution_count": null,
   "metadata": {},
   "outputs": [],
   "source": [
    "from sktime.utils.plotting import plot_lags, plot_windows"
   ]
  },
  {
   "cell_type": "code",
   "execution_count": null,
   "metadata": {},
   "outputs": [],
   "source": [
    "import matplotlib.pyplot as plt\n",
    "from sktime.split import SlidingWindowSplitter\n",
    "\n",
    "cv = SlidingWindowSplitter(\n",
    "    fh=list(range(2, 8)), window_length=DAY_HOURS * 365 * 3, step_length=DAY_HOURS * 40\n",
    ")"
   ]
  },
  {
   "cell_type": "code",
   "execution_count": null,
   "metadata": {},
   "outputs": [],
   "source": [
    "fig, ax = plot_windows(cv, y)\n",
    "# rotate x-axis labels\n",
    "plt.setp(ax.get_xticklabels(), rotation=45)\n",
    "plt.savefig(\"../presentation/cv_window.svg\", bbox_inches=\"tight\")"
   ]
  },
  {
   "cell_type": "code",
   "execution_count": null,
   "metadata": {},
   "outputs": [],
   "source": [
    "plot_lags(y, lags=[1, 7, 14])\n",
    "# plt.savefig(\"../presentation/bikes_lags.svg\")"
   ]
  },
  {
   "cell_type": "code",
   "execution_count": null,
   "metadata": {},
   "outputs": [],
   "source": [
    "model.fit(y, X)"
   ]
  },
  {
   "cell_type": "code",
   "execution_count": null,
   "metadata": {},
   "outputs": [],
   "source": [
    "model.model.feature_importances_\n",
    "\n",
    "pd.Series(model.model.feature_importances_, index=model.feature_names_in_).nlargest(\n",
    "    10\n",
    ").sort_values(ascending=True).plot.barh()\n",
    "plt.suptitle(\"XGBoost Feature Importance\")\n",
    "plt.savefig(\"presentation_feature_importance.svg\", bbox_inches=\"tight\")"
   ]
  },
  {
   "cell_type": "code",
   "execution_count": null,
   "metadata": {},
   "outputs": [],
   "source": []
  }
 ],
 "metadata": {
  "kernelspec": {
   "display_name": ".venv",
   "language": "python",
   "name": "python3"
  },
  "language_info": {
   "codemirror_mode": {
    "name": "ipython",
    "version": 3
   },
   "file_extension": ".py",
   "mimetype": "text/x-python",
   "name": "python",
   "nbconvert_exporter": "python",
   "pygments_lexer": "ipython3",
   "version": "3.10.13"
  }
 },
 "nbformat": 4,
 "nbformat_minor": 2
}
