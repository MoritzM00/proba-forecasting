{
 "cells": [
  {
   "cell_type": "code",
   "execution_count": null,
   "metadata": {},
   "outputs": [],
   "source": [
    "%load_ext autoreload\n",
    "%autoreload 2"
   ]
  },
  {
   "cell_type": "code",
   "execution_count": null,
   "metadata": {},
   "outputs": [],
   "source": [
    "import numpy as np\n",
    "import pandas as pd\n",
    "import seaborn as sns\n",
    "from sktime.forecasting.base import ForecastingHorizon\n",
    "from sktime.forecasting.naive import NaiveForecaster\n",
    "from sktime.performance_metrics.forecasting.probabilistic import PinballLoss\n",
    "from sktime.split import SlidingWindowSplitter, temporal_train_test_split\n",
    "from sktime.utils import plotting\n",
    "from sktime.utils.plotting import plot_windows\n",
    "\n",
    "from probafcst.utils.time import get_forecast_dates\n",
    "\n",
    "sns.set_theme(style=\"ticks\")"
   ]
  },
  {
   "cell_type": "code",
   "execution_count": null,
   "metadata": {},
   "outputs": [],
   "source": [
    "bikes = pd.read_parquet(\"../data/bikes.parquet\")\n",
    "load = pd.read_parquet(\"../data/energy.parquet\")"
   ]
  },
  {
   "cell_type": "code",
   "execution_count": null,
   "metadata": {},
   "outputs": [],
   "source": [
    "one_year = 24 * 365\n",
    "cv = SlidingWindowSplitter(\n",
    "    fh=np.arange(1, 24 * 7), window_length=one_year, step_length=one_year\n",
    ")\n",
    "len(list(cv.split(load)))"
   ]
  },
  {
   "cell_type": "code",
   "execution_count": null,
   "metadata": {},
   "outputs": [],
   "source": [
    "plot_windows(cv, load)"
   ]
  },
  {
   "cell_type": "code",
   "execution_count": null,
   "metadata": {},
   "outputs": [],
   "source": [
    "y_train, y_test = temporal_train_test_split(load, test_size=24 * 7)\n",
    "fh = ForecastingHorizon(y_test.index, is_relative=False)\n",
    "forecaster = NaiveForecaster(strategy=\"mean\", sp=24, window_length=24 * 7 * 3)\n",
    "forecaster.fit(y_train)\n",
    "\n",
    "quantile_levels = [0.025, 0.25, 0.5, 0.75, 0.975]\n",
    "y_pred = forecaster.predict_quantiles(fh, alpha=quantile_levels)"
   ]
  },
  {
   "cell_type": "code",
   "execution_count": null,
   "metadata": {},
   "outputs": [],
   "source": [
    "columns = [y_pred[i] for i in y_pred.columns]\n",
    "fig, ax = plotting.plot_series(y_test, *columns)"
   ]
  },
  {
   "cell_type": "code",
   "execution_count": null,
   "metadata": {},
   "outputs": [],
   "source": [
    "loss = PinballLoss(score_average=True)\n",
    "loss(y_test, y_pred)"
   ]
  },
  {
   "cell_type": "code",
   "execution_count": null,
   "metadata": {},
   "outputs": [],
   "source": [
    "# make a submission\n",
    "\n",
    "timestamps, forecast_hours = get_forecast_dates(load.index[-1])\n",
    "print(forecast_hours)\n",
    "forecaster.fit(load)\n",
    "fh = ForecastingHorizon(forecast_hours, is_relative=True)\n",
    "y_pred = forecaster.predict_quantiles(fh, alpha=quantile_levels)\n",
    "y_pred"
   ]
  },
  {
   "cell_type": "code",
   "execution_count": null,
   "metadata": {},
   "outputs": [],
   "source": [
    "# plot the forecast\n",
    "columns = [y_pred[i] for i in y_pred.columns]\n",
    "fig, ax = plotting.plot_series(y_test, *columns)"
   ]
  },
  {
   "cell_type": "code",
   "execution_count": null,
   "metadata": {},
   "outputs": [],
   "source": [
    "bikes = bikes.asfreq(\"D\").interpolate()"
   ]
  },
  {
   "cell_type": "code",
   "execution_count": null,
   "metadata": {},
   "outputs": [],
   "source": [
    "# forecast bikes\n",
    "fh = np.arange(2, 8)\n",
    "forecaster = NaiveForecaster(strategy=\"mean\", sp=7, window_length=90)\n",
    "forecaster.fit(bikes)\n",
    "y_pred_bikes = forecaster.predict_quantiles(fh, alpha=quantile_levels)\n",
    "\n",
    "# plot the forecast\n",
    "columns = [y_pred_bikes[i] for i in y_pred_bikes.columns]\n",
    "fig, ax = plotting.plot_series(bikes.iloc[-90:], *columns)"
   ]
  },
  {
   "cell_type": "code",
   "execution_count": null,
   "metadata": {},
   "outputs": [],
   "source": [
    "y_pred_bikes"
   ]
  },
  {
   "cell_type": "code",
   "execution_count": null,
   "metadata": {},
   "outputs": [],
   "source": [
    "from probafcst.utils import create_submission\n",
    "\n",
    "create_submission(energy_preds=y_pred.values, bikes_preds=y_pred_bikes.values)"
   ]
  },
  {
   "cell_type": "code",
   "execution_count": null,
   "metadata": {},
   "outputs": [],
   "source": []
  }
 ],
 "metadata": {
  "kernelspec": {
   "display_name": ".venv",
   "language": "python",
   "name": "python3"
  },
  "language_info": {
   "codemirror_mode": {
    "name": "ipython",
    "version": 3
   },
   "file_extension": ".py",
   "mimetype": "text/x-python",
   "name": "python",
   "nbconvert_exporter": "python",
   "pygments_lexer": "ipython3",
   "version": "3.10.13"
  }
 },
 "nbformat": 4,
 "nbformat_minor": 2
}
