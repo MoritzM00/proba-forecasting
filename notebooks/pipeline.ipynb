{
 "cells": [
  {
   "cell_type": "code",
   "execution_count": null,
   "metadata": {},
   "outputs": [],
   "source": [
    "%load_ext autoreload\n",
    "\n",
    "%autoreload 2"
   ]
  },
  {
   "cell_type": "code",
   "execution_count": null,
   "metadata": {},
   "outputs": [],
   "source": [
    "from loguru import logger\n",
    "\n",
    "logger.enable(\"probafcst\")"
   ]
  },
  {
   "cell_type": "code",
   "execution_count": null,
   "metadata": {},
   "outputs": [],
   "source": [
    "import pandas as pd\n",
    "import seaborn as sns\n",
    "\n",
    "from probafcst.backtest import backtest\n",
    "\n",
    "sns.set_theme(style=\"ticks\")"
   ]
  },
  {
   "cell_type": "code",
   "execution_count": null,
   "metadata": {},
   "outputs": [],
   "source": [
    "quantile_levels = [0.025, 0.25, 0.5, 0.75, 0.975]"
   ]
  },
  {
   "cell_type": "code",
   "execution_count": null,
   "metadata": {},
   "outputs": [],
   "source": [
    "bikes = pd.read_parquet(\"../data/bikes.parquet\")\n",
    "load = pd.read_parquet(\"../data/energy.parquet\")\n",
    "load = load.asfreq(\"h\").dropna()\n",
    "bikes = bikes.asfreq(\"D\").dropna()"
   ]
  },
  {
   "cell_type": "code",
   "execution_count": null,
   "metadata": {},
   "outputs": [],
   "source": [
    "load.head()"
   ]
  },
  {
   "cell_type": "code",
   "execution_count": null,
   "metadata": {},
   "outputs": [],
   "source": [
    "bikes.tail()"
   ]
  },
  {
   "cell_type": "code",
   "execution_count": null,
   "metadata": {},
   "outputs": [],
   "source": [
    "bikes = bikes.loc[\"2021\":]\n",
    "load = load.loc[\"2021\":]"
   ]
  },
  {
   "cell_type": "code",
   "execution_count": null,
   "metadata": {},
   "outputs": [],
   "source": [
    "# predictions are made on wednesdays\n",
    "eval_start = \"2024-10-23\"\n",
    "\n",
    "# compute the length of the training window\n",
    "n_train_bikes = bikes.loc[:eval_start].shape[0]\n",
    "n_train_energy = load.loc[:eval_start].shape[0]\n",
    "n_train_energy"
   ]
  },
  {
   "cell_type": "markdown",
   "metadata": {},
   "source": [
    "## Backtesting\n"
   ]
  },
  {
   "cell_type": "code",
   "execution_count": null,
   "metadata": {},
   "outputs": [],
   "source": [
    "import dvc.api\n",
    "from omegaconf import OmegaConf\n",
    "\n",
    "from probafcst.models import get_model\n",
    "\n",
    "model = \"lgbm\"\n",
    "target = \"energy\"\n",
    "quantile_levels = [0.025, 0.25, 0.5, 0.75, 0.975]\n",
    "\n",
    "pipe_params = dvc.api.params_show()\n",
    "model_params = OmegaConf.create(pipe_params).train[target]\n",
    "\n",
    "model_params.lgbm.kwargs.colsample_bytree = 0.8\n",
    "model_params.lgbm.kwargs.learning_rate = 0.1\n",
    "model_params.lgbm.kwargs.max_depth = 7\n",
    "model_params.lgbm.kwargs.n_estimators = 250\n",
    "model_params.lgbm.kwargs.reg_lambda = 1e-1\n",
    "model_params.lgbm.kwargs.min_child_samples = 200\n",
    "model_params.lgbm.kwargs.verbose = -1\n",
    "model_params.lgbm.kwargs.min_split_gain = 1e-2\n",
    "model_params.lgbm.kwargs.boosting_type = \"goss\"\n",
    "model_params.lgbm.kwargs.subsample = 1\n",
    "model_params.lgbm.kwargs.top_rate = 0.4\n",
    "\n",
    "model_params.selected = \"lgbm\"\n",
    "model = get_model(model_params, quantiles=quantile_levels)\n",
    "model"
   ]
  },
  {
   "cell_type": "code",
   "execution_count": null,
   "metadata": {},
   "outputs": [],
   "source": [
    "use_bikes = target == \"bikes\"\n",
    "\n",
    "if use_bikes:\n",
    "    X = bikes.drop(columns=\"bike_count\")\n",
    "    y = bikes[\"bike_count\"]\n",
    "    initial_window = n_train_bikes\n",
    "    DAY_HOURS = 1\n",
    "else:\n",
    "    X = load.drop(columns=\"load\")\n",
    "    y = load[\"load\"]\n",
    "    initial_window = n_train_energy\n",
    "    DAY_HOURS = 24"
   ]
  },
  {
   "cell_type": "code",
   "execution_count": null,
   "metadata": {},
   "outputs": [],
   "source": [
    "model.fit(y, X)"
   ]
  },
  {
   "cell_type": "code",
   "execution_count": null,
   "metadata": {},
   "outputs": [],
   "source": [
    "results, metrics, predictions, add_metrics = backtest(\n",
    "    model,\n",
    "    y=y,\n",
    "    X=X,\n",
    "    forecast_steps=DAY_HOURS * 7,  # one week\n",
    "    quantiles=quantile_levels,\n",
    "    initial_window=initial_window,\n",
    "    step_length=DAY_HOURS * 7,  # one week\n",
    "    backend=\"loky\",\n",
    ")"
   ]
  },
  {
   "cell_type": "code",
   "execution_count": null,
   "metadata": {},
   "outputs": [],
   "source": [
    "metrics"
   ]
  },
  {
   "cell_type": "code",
   "execution_count": null,
   "metadata": {},
   "outputs": [],
   "source": [
    "from probafcst.plotting import plot_quantiles\n",
    "\n",
    "# visualize some forecasts\n",
    "idx = [0, 1, 2, 3, len(results) // 2, -1]\n",
    "for i, (_, row) in enumerate(predictions.iloc[idx].iterrows()):\n",
    "    fig, _ = plot_quantiles(row.y_test, row.y_pred_quantiles)"
   ]
  },
  {
   "cell_type": "code",
   "execution_count": null,
   "metadata": {},
   "outputs": [],
   "source": []
  }
 ],
 "metadata": {
  "kernelspec": {
   "display_name": ".venv",
   "language": "python",
   "name": "python3"
  },
  "language_info": {
   "codemirror_mode": {
    "name": "ipython",
    "version": 3
   },
   "file_extension": ".py",
   "mimetype": "text/x-python",
   "name": "python",
   "nbconvert_exporter": "python",
   "pygments_lexer": "ipython3",
   "version": "3.10.13"
  }
 },
 "nbformat": 4,
 "nbformat_minor": 2
}
