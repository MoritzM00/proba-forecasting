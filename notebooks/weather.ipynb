{
 "cells": [
  {
   "cell_type": "markdown",
   "metadata": {},
   "source": [
    "## Hourly historical weather data"
   ]
  },
  {
   "cell_type": "code",
   "execution_count": null,
   "metadata": {},
   "outputs": [],
   "source": [
    "%load_ext autoreload\n",
    "%autoreload 2"
   ]
  },
  {
   "cell_type": "code",
   "execution_count": null,
   "metadata": {},
   "outputs": [],
   "source": [
    "import pandas as pd"
   ]
  },
  {
   "cell_type": "code",
   "execution_count": null,
   "metadata": {},
   "outputs": [],
   "source": [
    "data = pd.read_parquet(\"../data/bikes.parquet\")"
   ]
  },
  {
   "cell_type": "code",
   "execution_count": null,
   "metadata": {},
   "outputs": [],
   "source": [
    "data.info()"
   ]
  },
  {
   "cell_type": "code",
   "execution_count": null,
   "metadata": {},
   "outputs": [],
   "source": [
    "Xy = data.dropna().copy()\n",
    "y = Xy.pop(\"bike_count\")\n",
    "X = Xy.copy()"
   ]
  },
  {
   "cell_type": "code",
   "execution_count": null,
   "metadata": {},
   "outputs": [],
   "source": [
    "X.shape, y.shape"
   ]
  },
  {
   "cell_type": "code",
   "execution_count": null,
   "metadata": {},
   "outputs": [],
   "source": [
    "from sktime.forecasting.base import ForecastingHorizon\n",
    "from sktime.split import temporal_train_test_split\n",
    "\n",
    "from probafcst.models.xgboost import XGBQuantileForecaster\n",
    "\n",
    "y_train, y_test, X_train, X_test = temporal_train_test_split(y, X, test_size=24)\n",
    "\n",
    "quantiles = [0.025, 0.25, 0.5, 0.75, 0.975]"
   ]
  },
  {
   "cell_type": "code",
   "execution_count": null,
   "metadata": {},
   "outputs": [],
   "source": [
    "model = XGBQuantileForecaster(\n",
    "    lags=[24, 48, 168],\n",
    "    quantiles=quantiles,\n",
    "    include_seasonal_dummies=True,\n",
    "    X_lag_cols=None,\n",
    "    xgb_kwargs=dict(n_jobs=-1),\n",
    ")\n",
    "model.fit(y_train, X_train)"
   ]
  },
  {
   "cell_type": "code",
   "execution_count": null,
   "metadata": {},
   "outputs": [],
   "source": [
    "feature_importances = pd.Series(\n",
    "    model.model.feature_importances_, index=model.feature_names_in_\n",
    ")\n",
    "feature_importances.sort_values().plot(kind=\"barh\")"
   ]
  },
  {
   "cell_type": "code",
   "execution_count": null,
   "metadata": {},
   "outputs": [],
   "source": [
    "from sktime.performance_metrics.forecasting.probabilistic import PinballLoss\n",
    "\n",
    "from probafcst.plotting import plot_quantiles\n",
    "\n",
    "X = pd.concat([X_train, X_test], axis=0)\n",
    "fh = ForecastingHorizon(y_test.index, is_relative=False)\n",
    "y_pred = model.predict_quantiles(fh, X=X, alpha=quantiles)\n",
    "print(PinballLoss(score_average=False)(y_test, y_pred))\n",
    "plot_quantiles(y_test, pred_quantiles=y_pred)"
   ]
  },
  {
   "cell_type": "code",
   "execution_count": null,
   "metadata": {},
   "outputs": [],
   "source": [
    "from probafcst.backtest import backtest, get_window_params\n",
    "\n",
    "model.set_params(xgb_kwargs=dict(n_jobs=1))\n",
    "window_params = get_window_params(\n",
    "    n_years_initial_window=3, step_length_days=90, forecast_steps_days=7, freq=\"D\"\n",
    ")\n",
    "backtest_results = backtest(\n",
    "    model, y, **window_params, quantiles=quantiles, X=X, backend=\"loky\"\n",
    ")"
   ]
  },
  {
   "cell_type": "code",
   "execution_count": null,
   "metadata": {},
   "outputs": [],
   "source": [
    "backtest_results.metrics"
   ]
  },
  {
   "cell_type": "code",
   "execution_count": null,
   "metadata": {},
   "outputs": [],
   "source": [
    "results = backtest_results.eval_results\n",
    "predictions = backtest_results.predictions"
   ]
  },
  {
   "cell_type": "code",
   "execution_count": null,
   "metadata": {},
   "outputs": [],
   "source": [
    "nrows = min(3, len(results))\n",
    "for i, row in predictions.iloc[-nrows:].iterrows():\n",
    "    plot_quantiles(row.y_test, row.y_pred_quantiles)"
   ]
  },
  {
   "cell_type": "code",
   "execution_count": null,
   "metadata": {},
   "outputs": [],
   "source": []
  }
 ],
 "metadata": {
  "kernelspec": {
   "display_name": ".venv",
   "language": "python",
   "name": "python3"
  },
  "language_info": {
   "codemirror_mode": {
    "name": "ipython",
    "version": 3
   },
   "file_extension": ".py",
   "mimetype": "text/x-python",
   "name": "python",
   "nbconvert_exporter": "python",
   "pygments_lexer": "ipython3",
   "version": "3.10.13"
  }
 },
 "nbformat": 4,
 "nbformat_minor": 2
}
