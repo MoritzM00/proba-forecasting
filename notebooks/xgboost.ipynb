{
 "cells": [
  {
   "cell_type": "code",
   "execution_count": null,
   "metadata": {},
   "outputs": [],
   "source": [
    "%load_ext autoreload\n",
    "%autoreload 2"
   ]
  },
  {
   "cell_type": "code",
   "execution_count": null,
   "metadata": {},
   "outputs": [],
   "source": [
    "import numpy as np\n",
    "import pandas as pd"
   ]
  },
  {
   "cell_type": "code",
   "execution_count": null,
   "metadata": {},
   "outputs": [],
   "source": [
    "np.arange(-10, 1)"
   ]
  },
  {
   "cell_type": "code",
   "execution_count": null,
   "metadata": {},
   "outputs": [],
   "source": [
    "from sklearn.model_selection import train_test_split\n",
    "\n",
    "index = pd.date_range(\"2021-01-01\", periods=7, freq=\"h\")\n",
    "X = pd.DataFrame(\n",
    "    index=index,\n",
    "    data={\n",
    "        \"rain\": range(\n",
    "            -3,\n",
    "            4,\n",
    "        )\n",
    "    },\n",
    ")\n",
    "y = pd.Series(\n",
    "    index=index,\n",
    "    data=range(\n",
    "        -3,\n",
    "        4,\n",
    "    ),\n",
    "    name=\"load\",\n",
    ")\n",
    "y *= 10\n",
    "X_train, X_test, y_train, y_test = train_test_split(X, y, test_size=3, shuffle=False)\n",
    "X_train"
   ]
  },
  {
   "cell_type": "code",
   "execution_count": null,
   "metadata": {},
   "outputs": [],
   "source": [
    "X_test"
   ]
  },
  {
   "cell_type": "code",
   "execution_count": null,
   "metadata": {},
   "outputs": [],
   "source": [
    "from probafcst.utils.tabularization import create_lagged_features\n",
    "\n",
    "X_lagged, y_lagged = create_lagged_features(\n",
    "    X_train, y_train, lags=[1, 2], include_seasonal_dummies=False, is_training=True\n",
    ")\n",
    "X_lagged"
   ]
  },
  {
   "cell_type": "code",
   "execution_count": null,
   "metadata": {},
   "outputs": [],
   "source": [
    "y_lagged"
   ]
  },
  {
   "cell_type": "code",
   "execution_count": null,
   "metadata": {},
   "outputs": [],
   "source": [
    "y_pred = y_test.copy()\n",
    "y_pred.iloc[:] = np.nan"
   ]
  },
  {
   "cell_type": "code",
   "execution_count": null,
   "metadata": {},
   "outputs": [],
   "source": [
    "X_full = pd.concat([X_train, X_test])\n",
    "y_full = pd.concat([y_train, y_pred])\n",
    "X_full"
   ]
  },
  {
   "cell_type": "code",
   "execution_count": null,
   "metadata": {},
   "outputs": [],
   "source": [
    "y_full"
   ]
  },
  {
   "cell_type": "code",
   "execution_count": null,
   "metadata": {},
   "outputs": [],
   "source": [
    "y_full"
   ]
  },
  {
   "cell_type": "code",
   "execution_count": null,
   "metadata": {},
   "outputs": [],
   "source": [
    "X_lagged"
   ]
  },
  {
   "cell_type": "code",
   "execution_count": null,
   "metadata": {},
   "outputs": [],
   "source": [
    "X_lagged_test, _ = create_lagged_features(\n",
    "    X_full, y_full, lags=[1, 2], include_seasonal_dummies=False, is_training=False\n",
    ")\n",
    "X_lagged_test"
   ]
  },
  {
   "cell_type": "code",
   "execution_count": null,
   "metadata": {},
   "outputs": [],
   "source": [
    "y_hat = [10, 20, 30]\n",
    "for timestamp, y_hat in zip(X_test.index, y_hat):\n",
    "    X_lagged_test, _ = create_lagged_features(\n",
    "        X_full, y_full, lags=[1, 2], include_seasonal_dummies=False, is_training=False\n",
    "    )\n",
    "    X_step = X_lagged_test.loc[[timestamp]]\n",
    "    y_full.loc[timestamp] = y_hat"
   ]
  },
  {
   "cell_type": "code",
   "execution_count": null,
   "metadata": {},
   "outputs": [],
   "source": [
    "y_train"
   ]
  },
  {
   "cell_type": "code",
   "execution_count": null,
   "metadata": {},
   "outputs": [],
   "source": [
    "from probafcst.models.xgboost import XGBQuantileForecaster\n",
    "\n",
    "quantiles = [0.025, 0.25, 0.5, 0.75, 0.975]\n",
    "model = XGBQuantileForecaster(\n",
    "    lags=[1, 2],\n",
    "    quantiles=quantiles,\n",
    "    cyclical_encodings=False,\n",
    "    include_seasonal_dummies=False,\n",
    ")\n",
    "model.fit(y_train, X_train)"
   ]
  },
  {
   "cell_type": "code",
   "execution_count": null,
   "metadata": {},
   "outputs": [],
   "source": [
    "model.feature_names_in_"
   ]
  },
  {
   "cell_type": "code",
   "execution_count": null,
   "metadata": {},
   "outputs": [],
   "source": [
    "X_test"
   ]
  },
  {
   "cell_type": "code",
   "execution_count": null,
   "metadata": {},
   "outputs": [],
   "source": [
    "fh = np.arange(1, len(X_test) + 1)\n",
    "model.predict_quantiles(fh, X_test, alpha=quantiles)"
   ]
  },
  {
   "cell_type": "code",
   "execution_count": null,
   "metadata": {},
   "outputs": [],
   "source": [
    "X_test"
   ]
  },
  {
   "cell_type": "code",
   "execution_count": null,
   "metadata": {},
   "outputs": [],
   "source": [
    "y_test"
   ]
  },
  {
   "cell_type": "code",
   "execution_count": null,
   "metadata": {},
   "outputs": [],
   "source": [
    "y = pd.read_parquet(\"../data/bikes.parquet\")\n",
    "\n",
    "X = pd.DataFrame(index=y.index, data=np.random.randn(len(y), 1), columns=[\"rain\"])\n",
    "X"
   ]
  },
  {
   "cell_type": "code",
   "execution_count": null,
   "metadata": {},
   "outputs": [],
   "source": [
    "y"
   ]
  },
  {
   "cell_type": "code",
   "execution_count": null,
   "metadata": {},
   "outputs": [],
   "source": [
    "from probafcst.utils.tabularization import create_lagged_features\n",
    "\n",
    "features, labels = create_lagged_features(\n",
    "    X=None,\n",
    "    y=y[\"bike_count\"],\n",
    "    lags=[1, 2],\n",
    "    X_lag_cols=[],\n",
    "    include_seasonal_dummies=True,\n",
    "    is_training=True,\n",
    ")\n",
    "features"
   ]
  },
  {
   "cell_type": "code",
   "execution_count": null,
   "metadata": {},
   "outputs": [],
   "source": [
    "features.info()"
   ]
  },
  {
   "cell_type": "code",
   "execution_count": null,
   "metadata": {},
   "outputs": [],
   "source": []
  },
  {
   "cell_type": "code",
   "execution_count": null,
   "metadata": {},
   "outputs": [],
   "source": [
    "from sktime.forecasting.base import ForecastingHorizon\n",
    "\n",
    "X_train, X_test, y_train, y_test = train_test_split(X, y, test_size=30, shuffle=False)\n",
    "model = XGBQuantileForecaster(\n",
    "    lags=[1, 7, 30],\n",
    "    quantiles=quantiles,\n",
    "    include_seasonal_dummies=True,\n",
    "    cyclical_encodings=True,\n",
    ")\n",
    "model.fit(y_train, X_train)\n",
    "model"
   ]
  },
  {
   "cell_type": "code",
   "execution_count": null,
   "metadata": {},
   "outputs": [],
   "source": [
    "model.feature_names_in_"
   ]
  },
  {
   "cell_type": "code",
   "execution_count": null,
   "metadata": {},
   "outputs": [],
   "source": [
    "fh = ForecastingHorizon(y_test.index, is_relative=False)\n",
    "y_pred = model.predict_quantiles(fh, X_test, alpha=quantiles)\n",
    "y_pred"
   ]
  },
  {
   "cell_type": "code",
   "execution_count": null,
   "metadata": {},
   "outputs": [],
   "source": [
    "import matplotlib.pyplot as plt\n",
    "\n",
    "plt.barh(model.feature_names_in_, model.model.feature_importances_)"
   ]
  },
  {
   "cell_type": "code",
   "execution_count": null,
   "metadata": {},
   "outputs": [],
   "source": [
    "from probafcst.plotting import plot_quantiles\n",
    "\n",
    "plot_quantiles(y_test, y_pred)"
   ]
  },
  {
   "cell_type": "code",
   "execution_count": null,
   "metadata": {},
   "outputs": [],
   "source": []
  }
 ],
 "metadata": {
  "kernelspec": {
   "display_name": ".venv",
   "language": "python",
   "name": "python3"
  },
  "language_info": {
   "codemirror_mode": {
    "name": "ipython",
    "version": 3
   },
   "file_extension": ".py",
   "mimetype": "text/x-python",
   "name": "python",
   "nbconvert_exporter": "python",
   "pygments_lexer": "ipython3",
   "version": "3.10.13"
  }
 },
 "nbformat": 4,
 "nbformat_minor": 2
}
