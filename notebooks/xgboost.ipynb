{
 "cells": [
  {
   "cell_type": "code",
   "execution_count": null,
   "metadata": {},
   "outputs": [],
   "source": [
    "%load_ext autoreload\n",
    "%autoreload 2"
   ]
  },
  {
   "cell_type": "code",
   "execution_count": null,
   "metadata": {},
   "outputs": [],
   "source": [
    "import pandas as pd"
   ]
  },
  {
   "cell_type": "code",
   "execution_count": null,
   "metadata": {},
   "outputs": [],
   "source": [
    "data = pd.read_parquet(\"../data/bikes.parquet\").dropna()\n",
    "y = data[\"bike_count\"]\n",
    "X = data.drop(columns=[\"bike_count\"])\n",
    "y"
   ]
  },
  {
   "cell_type": "code",
   "execution_count": null,
   "metadata": {},
   "outputs": [],
   "source": [
    "y"
   ]
  },
  {
   "cell_type": "code",
   "execution_count": null,
   "metadata": {},
   "outputs": [],
   "source": [
    "from sklearn.model_selection import train_test_split\n",
    "from sktime.forecasting.base import ForecastingHorizon\n",
    "\n",
    "from probafcst.models.xgboost import XGBQuantileForecaster\n",
    "\n",
    "quantiles = [0.025, 0.25, 0.5, 0.75, 0.975]\n",
    "X_train, X_test, y_train, y_test = train_test_split(X, y, test_size=30, shuffle=False)\n",
    "lags = [1, 2, 3, 4, 5, 6, 7, 14, 21, 28]\n",
    "model = XGBQuantileForecaster(\n",
    "    lags=lags,\n",
    "    quantiles=quantiles,\n",
    "    include_seasonal_dummies=True,\n",
    "    cyclical_encodings=True,\n",
    "    xgb_kwargs={\"n_jobs\": -1},\n",
    ")\n",
    "model.fit(y_train, X_train)\n",
    "model"
   ]
  },
  {
   "cell_type": "code",
   "execution_count": null,
   "metadata": {},
   "outputs": [],
   "source": [
    "feature_importances = pd.Series(\n",
    "    model.model.feature_importances_, index=model.feature_names_in_\n",
    ")\n",
    "feature_importances.nlargest(10).sort_values().plot(kind=\"barh\")"
   ]
  },
  {
   "cell_type": "code",
   "execution_count": null,
   "metadata": {},
   "outputs": [],
   "source": [
    "y_test.index[-1]"
   ]
  },
  {
   "cell_type": "code",
   "execution_count": null,
   "metadata": {},
   "outputs": [],
   "source": [
    "from probafcst.backtest import backtest, get_window_params\n",
    "\n",
    "window_params = get_window_params(\n",
    "    3, step_length_days=90, forecast_steps_days=7, freq=\"D\"\n",
    ")\n",
    "results = backtest(\n",
    "    model,\n",
    "    y,\n",
    "    **window_params,\n",
    "    X=None,\n",
    "    backend=None,\n",
    "    splitter_type=\"sliding\",\n",
    "    quantiles=quantiles,\n",
    ")"
   ]
  },
  {
   "cell_type": "code",
   "execution_count": null,
   "metadata": {},
   "outputs": [],
   "source": [
    "fh = ForecastingHorizon(y_test.index, is_relative=False)\n",
    "y_pred = model.predict_quantiles(fh, X_test, alpha=quantiles)\n",
    "y_pred"
   ]
  },
  {
   "cell_type": "code",
   "execution_count": null,
   "metadata": {},
   "outputs": [],
   "source": [
    "# import shap\n",
    "\n",
    "# explainer = shap.TreeExplainer(\n",
    "#     model.model, feature_names=model.feature_names_in_, data=features\n",
    "# )\n",
    "# features, labels = create_lagged_features(\n",
    "#     X, y[\"bike_count\"], lags=lags, include_seasonal_dummies=True, is_training=True\n",
    "# )\n",
    "# features = features.loc[y_test.index]\n",
    "# labels = labels.loc[y_test.index]\n",
    "# features.head()"
   ]
  },
  {
   "cell_type": "code",
   "execution_count": null,
   "metadata": {},
   "outputs": [],
   "source": [
    "model.feature_names_in_"
   ]
  },
  {
   "cell_type": "code",
   "execution_count": null,
   "metadata": {},
   "outputs": [],
   "source": [
    "# shap_values = explainer(features, labels)"
   ]
  },
  {
   "cell_type": "code",
   "execution_count": null,
   "metadata": {},
   "outputs": [],
   "source": [
    "# averaged = shap_values.values.mean(axis=2)  # noqa: PD011\n",
    "# averaged.shape"
   ]
  },
  {
   "cell_type": "code",
   "execution_count": null,
   "metadata": {},
   "outputs": [],
   "source": [
    "# shap.summary_plot(averaged, features)"
   ]
  },
  {
   "cell_type": "code",
   "execution_count": null,
   "metadata": {},
   "outputs": [],
   "source": []
  }
 ],
 "metadata": {
  "kernelspec": {
   "display_name": ".venv",
   "language": "python",
   "name": "python3"
  },
  "language_info": {
   "codemirror_mode": {
    "name": "ipython",
    "version": 3
   },
   "file_extension": ".py",
   "mimetype": "text/x-python",
   "name": "python",
   "nbconvert_exporter": "python",
   "pygments_lexer": "ipython3",
   "version": "3.10.13"
  }
 },
 "nbformat": 4,
 "nbformat_minor": 2
}
