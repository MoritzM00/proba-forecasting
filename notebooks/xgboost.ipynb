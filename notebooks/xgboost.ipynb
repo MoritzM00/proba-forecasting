{
 "cells": [
  {
   "cell_type": "code",
   "execution_count": null,
   "metadata": {},
   "outputs": [],
   "source": [
    "%load_ext autoreload\n",
    "%autoreload 2"
   ]
  },
  {
   "cell_type": "code",
   "execution_count": null,
   "metadata": {},
   "outputs": [],
   "source": [
    "import numpy as np\n",
    "import pandas as pd"
   ]
  },
  {
   "cell_type": "code",
   "execution_count": null,
   "metadata": {},
   "outputs": [],
   "source": [
    "np.arange(-10, 1)"
   ]
  },
  {
   "cell_type": "code",
   "execution_count": null,
   "metadata": {},
   "outputs": [],
   "source": [
    "from sklearn.model_selection import train_test_split\n",
    "\n",
    "index = pd.date_range(\"2021-01-01\", periods=14, freq=\"h\")\n",
    "X = pd.DataFrame(\n",
    "    index=index,\n",
    "    data={\n",
    "        \"rain\": range(\n",
    "            -10,\n",
    "            4,\n",
    "        )\n",
    "    },\n",
    ")\n",
    "y = pd.Series(\n",
    "    index=index,\n",
    "    data=range(\n",
    "        -10,\n",
    "        4,\n",
    "    ),\n",
    "    name=\"load\",\n",
    ")\n",
    "y *= 10\n",
    "X_train, X_test, y_train, y_test = train_test_split(X, y, test_size=3, shuffle=False)\n",
    "X_train"
   ]
  },
  {
   "cell_type": "code",
   "execution_count": null,
   "metadata": {},
   "outputs": [],
   "source": [
    "X_test"
   ]
  },
  {
   "cell_type": "code",
   "execution_count": null,
   "metadata": {},
   "outputs": [],
   "source": [
    "from probafcst.utils.tabularization import create_lagged_features\n",
    "\n",
    "X_lagged, y_lagged = create_lagged_features(\n",
    "    X_train, y_train, lags=[1, 3], include_seasonal_dummies=False, is_training=True\n",
    ")\n",
    "X_lagged"
   ]
  },
  {
   "cell_type": "code",
   "execution_count": null,
   "metadata": {},
   "outputs": [],
   "source": [
    "y_lagged"
   ]
  },
  {
   "cell_type": "code",
   "execution_count": null,
   "metadata": {},
   "outputs": [],
   "source": [
    "y_pred = y_test.copy()\n",
    "y_pred.iloc[:] = np.nan"
   ]
  },
  {
   "cell_type": "code",
   "execution_count": null,
   "metadata": {},
   "outputs": [],
   "source": [
    "X_full = pd.concat([X_train, X_test])\n",
    "y_full = pd.concat([y_train, y_pred])\n",
    "X_full"
   ]
  },
  {
   "cell_type": "code",
   "execution_count": null,
   "metadata": {},
   "outputs": [],
   "source": [
    "y_full"
   ]
  },
  {
   "cell_type": "code",
   "execution_count": null,
   "metadata": {},
   "outputs": [],
   "source": [
    "y_full"
   ]
  },
  {
   "cell_type": "code",
   "execution_count": null,
   "metadata": {},
   "outputs": [],
   "source": [
    "X_lagged_test, _ = create_lagged_features(\n",
    "    X_full, y_full, lags=[1, 3], include_seasonal_dummies=False, is_training=False\n",
    ")\n",
    "X_lagged_test"
   ]
  },
  {
   "cell_type": "code",
   "execution_count": null,
   "metadata": {},
   "outputs": [],
   "source": [
    "y_hat = [10, 20, 30]\n",
    "for timestamp, y_hat in zip(X_test.index, y_hat):\n",
    "    X_lagged_test, _ = create_lagged_features(\n",
    "        X_full, y_full, lags=[1, 3], include_seasonal_dummies=False, is_training=False\n",
    "    )\n",
    "    X_step = X_lagged_test.loc[[timestamp]]\n",
    "    print(X_step)\n",
    "    y_full.loc[timestamp] = y_hat"
   ]
  },
  {
   "cell_type": "code",
   "execution_count": null,
   "metadata": {},
   "outputs": [],
   "source": [
    "X_lagged_test"
   ]
  },
  {
   "cell_type": "code",
   "execution_count": null,
   "metadata": {},
   "outputs": [],
   "source": []
  }
 ],
 "metadata": {
  "kernelspec": {
   "display_name": ".venv",
   "language": "python",
   "name": "python3"
  },
  "language_info": {
   "codemirror_mode": {
    "name": "ipython",
    "version": 3
   },
   "file_extension": ".py",
   "mimetype": "text/x-python",
   "name": "python",
   "nbconvert_exporter": "python",
   "pygments_lexer": "ipython3",
   "version": "3.10.13"
  }
 },
 "nbformat": 4,
 "nbformat_minor": 2
}
