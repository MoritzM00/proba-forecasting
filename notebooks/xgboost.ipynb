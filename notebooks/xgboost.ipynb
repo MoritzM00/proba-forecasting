{
 "cells": [
  {
   "cell_type": "code",
   "execution_count": null,
   "metadata": {},
   "outputs": [],
   "source": [
    "%load_ext autoreload\n",
    "%autoreload 2"
   ]
  },
  {
   "cell_type": "code",
   "execution_count": null,
   "metadata": {},
   "outputs": [],
   "source": [
    "import sys\n",
    "\n",
    "import pandas as pd\n",
    "from loguru import logger\n",
    "\n",
    "logger.enable(\"probafcst\")\n",
    "logger.remove()\n",
    "logger.add(sink=sys.stderr, level=\"DEBUG\")"
   ]
  },
  {
   "cell_type": "code",
   "execution_count": null,
   "metadata": {},
   "outputs": [],
   "source": [
    "data = pd.read_parquet(\"../data/energy.parquet\").asfreq(\"h\").dropna().loc[\"2021\":]\n",
    "y = data[\"load\"].to_frame()\n",
    "X = data.drop(columns=[\"load\"])"
   ]
  },
  {
   "cell_type": "code",
   "execution_count": null,
   "metadata": {},
   "outputs": [],
   "source": [
    "y.tail()"
   ]
  },
  {
   "cell_type": "code",
   "execution_count": null,
   "metadata": {},
   "outputs": [],
   "source": [
    "from probafcst.utils.tabularization import create_lagged_features\n",
    "\n",
    "bikes = pd.read_parquet(\"../data/bikes.parquet\").asfreq(\"D\").dropna()\n",
    "y = bikes[\"bike_count\"].to_frame()\n",
    "X = bikes.drop(columns=[\"bike_count\"])\n",
    "\n",
    "result, _ = create_lagged_features(\n",
    "    X,\n",
    "    y[\"bike_count\"],\n",
    "    lags=[24],\n",
    "    include_seasonal_dummies=True,\n",
    "    cyclical_encodings=False,\n",
    "    include_rolling_stats=False,\n",
    "    is_training=False,\n",
    ")"
   ]
  },
  {
   "cell_type": "code",
   "execution_count": null,
   "metadata": {},
   "outputs": [],
   "source": [
    "bikes.tail()"
   ]
  },
  {
   "cell_type": "code",
   "execution_count": null,
   "metadata": {},
   "outputs": [],
   "source": [
    "result.info()"
   ]
  },
  {
   "cell_type": "code",
   "execution_count": null,
   "metadata": {},
   "outputs": [],
   "source": [
    "from probafcst.models.linear_qr import LinearQuantileForecaster"
   ]
  },
  {
   "cell_type": "code",
   "execution_count": null,
   "metadata": {},
   "outputs": [],
   "source": [
    "from sklearn.model_selection import train_test_split\n",
    "from sktime.forecasting.base import ForecastingHorizon\n",
    "\n",
    "from probafcst.models.xgboost import XGBQuantileForecaster\n",
    "\n",
    "quantiles = [0.025, 0.25, 0.5, 0.75, 0.975]\n",
    "X_train, X_test, y_train, y_test = train_test_split(X, y, test_size=168, shuffle=False)\n",
    "# lags = [1, 2, 3, 4, 5, 6, 7, 14, 21, 28]\n",
    "lags = [24, 48, 168]\n",
    "\n",
    "\n",
    "fh = ForecastingHorizon(y_test.index, is_relative=False)\n",
    "xgb_kwargs = dict(\n",
    "    n_jobs=-1,\n",
    "    # early_stopping_rounds=50,\n",
    "    n_estimators=500,\n",
    "    learning_rate=0.05,\n",
    "    subsample=0.8,\n",
    "    colsample_bytree=0.8,\n",
    ")\n",
    "model = XGBQuantileForecaster(\n",
    "    lags=lags,\n",
    "    quantiles=quantiles,\n",
    "    include_seasonal_dummies=True,\n",
    "    cyclical_encodings=True,\n",
    "    X_lag_cols=None,\n",
    "    kwargs=xgb_kwargs,\n",
    ")\n",
    "# model.fit(y_train, X_train)\n",
    "# model"
   ]
  },
  {
   "cell_type": "code",
   "execution_count": null,
   "metadata": {},
   "outputs": [],
   "source": [
    "qr_forecaster = LinearQuantileForecaster(\n",
    "    lags=lags,\n",
    "    quantiles=quantiles,\n",
    "    include_seasonal_dummies=True,\n",
    "    cyclical_encodings=False,\n",
    "    include_rolling_stats=False,\n",
    "    X_lag_cols=[],\n",
    ")\n",
    "qr_forecaster.fit(y_train, X_train)"
   ]
  },
  {
   "cell_type": "code",
   "execution_count": null,
   "metadata": {},
   "outputs": [],
   "source": [
    "from probafcst.plotting import plot_quantiles\n",
    "\n",
    "y_pred = qr_forecaster.predict_quantiles(fh, X=X, alpha=quantiles)\n",
    "\n",
    "plot_quantiles(y_test, y_pred)"
   ]
  },
  {
   "cell_type": "code",
   "execution_count": null,
   "metadata": {},
   "outputs": [],
   "source": [
    "feature_importances = pd.Series(\n",
    "    model.model.feature_importances_, index=model.feature_names_in_\n",
    ")\n",
    "feature_importances.nlargest(25).sort_values(ascending=True).plot(kind=\"barh\")"
   ]
  },
  {
   "cell_type": "code",
   "execution_count": null,
   "metadata": {},
   "outputs": [],
   "source": [
    "from probafcst.models.lgbm import LGBMQuantileForecaster\n",
    "\n",
    "model = LGBMQuantileForecaster(\n",
    "    lags=[1, 2], quantiles=quantiles, lgbm_kwargs=dict(verbose=0, n_estimators=10)\n",
    ")\n",
    "\n",
    "model.fit(y_train, X_train)\n",
    "y_pred = model.predict_quantiles(fh, X, alpha=quantiles)"
   ]
  },
  {
   "cell_type": "code",
   "execution_count": null,
   "metadata": {},
   "outputs": [],
   "source": [
    "# model.model.best_iteration, model.model.best_score"
   ]
  },
  {
   "cell_type": "code",
   "execution_count": null,
   "metadata": {},
   "outputs": [],
   "source": [
    "from probafcst.utils.time import get_next_wednesday\n",
    "\n",
    "get_next_wednesday()"
   ]
  },
  {
   "cell_type": "code",
   "execution_count": null,
   "metadata": {},
   "outputs": [],
   "source": [
    "feature_importances = pd.Series(\n",
    "    model.model.feature_importances_, index=model.feature_names_in_\n",
    ")\n",
    "feature_importances.nlargest(10).sort_values().plot(kind=\"barh\")"
   ]
  },
  {
   "cell_type": "code",
   "execution_count": null,
   "metadata": {},
   "outputs": [],
   "source": [
    "from sktime.performance_metrics.forecasting.probabilistic import (\n",
    "    ConstraintViolation,\n",
    "    EmpiricalCoverage,\n",
    "    PinballLoss,\n",
    ")"
   ]
  },
  {
   "cell_type": "code",
   "execution_count": null,
   "metadata": {},
   "outputs": [],
   "source": [
    "fh = ForecastingHorizon(y_test.index, is_relative=False)\n",
    "y_pred = model.predict_quantiles(fh, X, alpha=quantiles)\n",
    "\n",
    "pinball_loss = PinballLoss()(y_test, y_pred)\n",
    "empirical_coverage = EmpiricalCoverage()(y_test, y_pred)\n",
    "constraint_violation = ConstraintViolation()(y_test, y_pred)\n",
    "print(f\"Pinball loss: {pinball_loss}\")\n",
    "print(f\"Empirical coverage: {empirical_coverage}\")\n",
    "print(f\"Constraint violation: {constraint_violation}\")"
   ]
  },
  {
   "cell_type": "code",
   "execution_count": null,
   "metadata": {},
   "outputs": [],
   "source": [
    "from probafcst.backtest import backtest, get_window_params\n",
    "\n",
    "window_params = get_window_params(\n",
    "    3, step_length_days=90, forecast_steps_days=7, freq=\"D\"\n",
    ")\n",
    "results = backtest(\n",
    "    model,\n",
    "    y,\n",
    "    **window_params,\n",
    "    X=X,\n",
    "    backend=\"loky\",\n",
    "    splitter_type=\"sliding\",\n",
    "    quantiles=quantiles,\n",
    ")"
   ]
  },
  {
   "cell_type": "code",
   "execution_count": null,
   "metadata": {},
   "outputs": [],
   "source": [
    "# import shap\n",
    "\n",
    "# explainer = shap.TreeExplainer(\n",
    "#     model.model, feature_names=model.feature_names_in_, data=features\n",
    "# )\n",
    "# features, labels = create_lagged_features(\n",
    "#     X, y[\"bike_count\"], lags=lags, include_seasonal_dummies=True, is_training=True\n",
    "# )\n",
    "# features = features.loc[y_test.index]\n",
    "# labels = labels.loc[y_test.index]\n",
    "# features.head()"
   ]
  },
  {
   "cell_type": "code",
   "execution_count": null,
   "metadata": {},
   "outputs": [],
   "source": [
    "model.feature_names_in_"
   ]
  },
  {
   "cell_type": "code",
   "execution_count": null,
   "metadata": {},
   "outputs": [],
   "source": [
    "# shap_values = explainer(features, labels)"
   ]
  },
  {
   "cell_type": "code",
   "execution_count": null,
   "metadata": {},
   "outputs": [],
   "source": [
    "# averaged = shap_values.values.mean(axis=2)  # noqa: PD011\n",
    "# averaged.shape"
   ]
  },
  {
   "cell_type": "code",
   "execution_count": null,
   "metadata": {},
   "outputs": [],
   "source": [
    "# shap.summary_plot(averaged, features)"
   ]
  },
  {
   "cell_type": "code",
   "execution_count": null,
   "metadata": {},
   "outputs": [],
   "source": []
  }
 ],
 "metadata": {
  "kernelspec": {
   "display_name": ".venv",
   "language": "python",
   "name": "python3"
  },
  "language_info": {
   "codemirror_mode": {
    "name": "ipython",
    "version": 3
   },
   "file_extension": ".py",
   "mimetype": "text/x-python",
   "name": "python",
   "nbconvert_exporter": "python",
   "pygments_lexer": "ipython3",
   "version": "3.10.13"
  }
 },
 "nbformat": 4,
 "nbformat_minor": 2
}
