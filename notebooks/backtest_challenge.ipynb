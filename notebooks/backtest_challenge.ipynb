{
 "cells": [
  {
   "cell_type": "code",
   "execution_count": null,
   "metadata": {},
   "outputs": [],
   "source": [
    "%load_ext autoreload\n",
    "\n",
    "%autoreload 2"
   ]
  },
  {
   "cell_type": "code",
   "execution_count": null,
   "metadata": {},
   "outputs": [],
   "source": [
    "from loguru import logger\n",
    "\n",
    "logger.enable(\"probafcst\")"
   ]
  },
  {
   "cell_type": "code",
   "execution_count": null,
   "metadata": {},
   "outputs": [],
   "source": [
    "import pandas as pd\n",
    "import seaborn as sns\n",
    "\n",
    "from probafcst.backtest import backtest\n",
    "\n",
    "sns.set_theme(style=\"ticks\")"
   ]
  },
  {
   "cell_type": "code",
   "execution_count": null,
   "metadata": {},
   "outputs": [],
   "source": [
    "quantile_levels = [0.025, 0.25, 0.5, 0.75, 0.975]"
   ]
  },
  {
   "cell_type": "code",
   "execution_count": null,
   "metadata": {},
   "outputs": [],
   "source": [
    "bikes = pd.read_parquet(\"../data/bikes.parquet\")\n",
    "load = pd.read_parquet(\"../data/energy.parquet\")\n",
    "load = load.asfreq(\"h\").dropna()\n",
    "bikes = bikes.asfreq(\"D\").dropna()"
   ]
  },
  {
   "cell_type": "code",
   "execution_count": null,
   "metadata": {},
   "outputs": [],
   "source": [
    "debug = True\n",
    "\n",
    "if debug:\n",
    "    bikes = bikes.loc[\"2024\":]\n",
    "    load = load.loc[\"2024\":]"
   ]
  },
  {
   "cell_type": "code",
   "execution_count": null,
   "metadata": {},
   "outputs": [],
   "source": [
    "# predictions are made on wednesdays\n",
    "eval_start = \"2024-10-23\"\n",
    "# eval_end = \"2025-02-09\"\n",
    "\n",
    "# compute the length of the training window\n",
    "n_train_bikes = bikes.loc[:eval_start].shape[0]\n",
    "n_train_energy = load.loc[:eval_start].shape[0]\n",
    "n_train_energy"
   ]
  },
  {
   "cell_type": "markdown",
   "metadata": {},
   "source": [
    "## Backtesting\n"
   ]
  },
  {
   "cell_type": "code",
   "execution_count": null,
   "metadata": {},
   "outputs": [],
   "source": [
    "import dvc.api\n",
    "from omegaconf import OmegaConf\n",
    "\n",
    "from probafcst.models import get_model"
   ]
  },
  {
   "cell_type": "code",
   "execution_count": null,
   "metadata": {},
   "outputs": [],
   "source": [
    "def backtest_single(model_name: str, target: str):\n",
    "    \"\"\"Backtest single model on challenge weeks.\"\"\"\n",
    "    quantile_levels = [0.025, 0.25, 0.5, 0.75, 0.975]\n",
    "    pipe_params = dvc.api.params_show()\n",
    "    model_params = OmegaConf.create(pipe_params).train[target]\n",
    "    model_params.selected = model_name\n",
    "    model = get_model(model_params, quantiles=quantile_levels, n_jobs=1)\n",
    "\n",
    "    use_bikes = target == \"bikes\"\n",
    "\n",
    "    if use_bikes:\n",
    "        X = bikes.drop(columns=\"bike_count\")\n",
    "        y = bikes[\"bike_count\"]\n",
    "        initial_window = n_train_bikes\n",
    "        DAY_HOURS = 1\n",
    "    else:\n",
    "        X = load.drop(columns=\"load\")\n",
    "        y = load[\"load\"]\n",
    "        initial_window = n_train_energy\n",
    "        DAY_HOURS = 24\n",
    "\n",
    "    if model_name == \"quantreg\":\n",
    "        # use less data for quantreg\n",
    "        X = X.loc[\"2021\":]\n",
    "        y = y.loc[\"2021\":]\n",
    "\n",
    "    results, metrics, predictions, add_metrics = backtest(\n",
    "        model,\n",
    "        y=y,\n",
    "        X=X,\n",
    "        forecast_steps=DAY_HOURS * 7,  # one week\n",
    "        quantiles=quantile_levels,\n",
    "        initial_window=initial_window,\n",
    "        step_length=DAY_HOURS * 7,  # one week\n",
    "        backend=\"loky\",\n",
    "    )\n",
    "    return results, metrics, predictions, add_metrics"
   ]
  },
  {
   "cell_type": "code",
   "execution_count": null,
   "metadata": {},
   "outputs": [],
   "source": [
    "def backtest_all(models: list | None = None):\n",
    "    \"\"\"Backtest all models.\"\"\"\n",
    "    targets = [\"bikes\", \"energy\"]\n",
    "    if models is None:\n",
    "        models = [\"benchmark\", \"quantreg\", \"xgb-custom\", \"lgbm\", \"catboost\"]\n",
    "    metrics = {target: {model_name: {} for model_name in models} for target in targets}\n",
    "    for target in targets:\n",
    "        for model_name in models:\n",
    "            _, metrics[target][model_name], _, _ = backtest_single(model_name, target)\n",
    "            pl = metrics[target][model_name][\"pinball_loss\"]\n",
    "            cov_50 = metrics[target][model_name][\"coverage_50\"]\n",
    "            cov_95 = metrics[target][model_name][\"coverage_95\"]\n",
    "            print(\n",
    "                f\"{target:<8} {model_name} | Pinball loss    = {pl['mean']:.2f} (± {pl['std']:.2f})\"\n",
    "            )\n",
    "            print(\n",
    "                f\"{target:<8} {model_name} | 50% PI Coverage = {cov_50['mean']:.2f} (± {cov_50['std']:.2f})\"\n",
    "            )\n",
    "            print(\n",
    "                f\"{target:<8} {model_name} | 95% PI Coverage = {cov_95['mean']:.2f} (± {cov_95['std']:.2f})\"\n",
    "            )\n",
    "\n",
    "    return metrics"
   ]
  },
  {
   "cell_type": "code",
   "execution_count": null,
   "metadata": {},
   "outputs": [],
   "source": [
    "result = backtest_all(models=[\"lgbm\"])"
   ]
  },
  {
   "cell_type": "code",
   "execution_count": null,
   "metadata": {},
   "outputs": [],
   "source": []
  }
 ],
 "metadata": {
  "kernelspec": {
   "display_name": ".venv",
   "language": "python",
   "name": "python3"
  },
  "language_info": {
   "codemirror_mode": {
    "name": "ipython",
    "version": 3
   },
   "file_extension": ".py",
   "mimetype": "text/x-python",
   "name": "python",
   "nbconvert_exporter": "python",
   "pygments_lexer": "ipython3",
   "version": "3.10.13"
  }
 },
 "nbformat": 4,
 "nbformat_minor": 2
}
