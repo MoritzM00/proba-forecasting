{
 "cells": [
  {
   "cell_type": "markdown",
   "metadata": {},
   "source": [
    "# Query DVC Experiments and create Latex Table"
   ]
  },
  {
   "cell_type": "code",
   "execution_count": null,
   "metadata": {},
   "outputs": [],
   "source": [
    "# ruff: noqa"
   ]
  },
  {
   "cell_type": "code",
   "execution_count": null,
   "metadata": {},
   "outputs": [],
   "source": [
    "import dvc.api\n",
    "import pandas as pd\n",
    "\n",
    "pd.set_option(\"display.max_columns\", 500)"
   ]
  },
  {
   "cell_type": "code",
   "execution_count": null,
   "metadata": {},
   "outputs": [],
   "source": [
    "exps = dvc.api.exp_show(revs=\"e7d052c\")"
   ]
  },
  {
   "cell_type": "code",
   "execution_count": null,
   "metadata": {},
   "outputs": [],
   "source": [
    "# tags = dvc.api.scm.all_tags()\n",
    "# exps = dvc.api.exp_show(revs=tags)\n",
    "df = pd.DataFrame(exps)\n",
    "df = df.dropna(subset=[\"Experiment\"]).reset_index(drop=True)\n",
    "df.head(10)"
   ]
  },
  {
   "cell_type": "code",
   "execution_count": null,
   "metadata": {},
   "outputs": [],
   "source": [
    "# Create a function to format metrics as mean (±std) with highlighting\n",
    "def format_table_with_metrics_and_highlighting(df, target=\"energy\"):\n",
    "    # Define display name mapping\n",
    "    display_names = {\n",
    "        \"pinball_loss\": \"Pinball Loss\",\n",
    "        \"interval_score_50\": r\"$\\text{IS}_{0.5}$\",\n",
    "        \"interval_score_95\": r\"$\\text{IS}_{0.05}$\",\n",
    "        \"coverage_50\": r\"$\\text{Cvg}_{0.5}$\",\n",
    "        \"coverage_95\": r\"$\\text{Cvg}_{0.05}$\",\n",
    "    }\n",
    "\n",
    "    # Create new formatted DataFrame\n",
    "    formatted_table = pd.DataFrame()\n",
    "    formatted_table[\"Model\"] = df[f\"train.{target}.selected\"]\n",
    "\n",
    "    # Format metrics with highlighting\n",
    "    for metric in [\"pinball_loss\", \"interval_score_50\", \"interval_score_95\"]:\n",
    "        means = df[f\"{metric}.mean\"]\n",
    "        stds = df[f\"{metric}.std\"]\n",
    "        min_idx = means.idxmin()\n",
    "\n",
    "        values = []\n",
    "        for idx in means.index:\n",
    "            if idx == min_idx:\n",
    "                values.append(f\"\\\\textbf{{{means[idx]:.2f} (± {stds[idx]:.2f})}}\")\n",
    "            else:\n",
    "                values.append(f\"{means[idx]:.2f} (± {stds[idx]:.2f})\")\n",
    "        formatted_table[display_names[metric]] = values\n",
    "\n",
    "    # Handle coverage metrics\n",
    "    for metric, target in [(\"coverage_50\", 0.5), (\"coverage_95\", 0.95)]:\n",
    "        means = df[f\"{metric}.mean\"]\n",
    "        stds = df[f\"{metric}.std\"]\n",
    "        # Find index closest to target\n",
    "        closest_idx = (means - target).abs().idxmin()\n",
    "\n",
    "        values = []\n",
    "        for idx in means.index:\n",
    "            if idx == closest_idx:\n",
    "                values.append(f\"\\\\textbf{{{means[idx]:.2f} (± {stds[idx]:.2f})}}\")\n",
    "            else:\n",
    "                values.append(f\"{means[idx]:.2f} (± {stds[idx]:.2f})\")\n",
    "        formatted_table[display_names[metric]] = values\n",
    "\n",
    "    return formatted_table"
   ]
  },
  {
   "cell_type": "code",
   "execution_count": null,
   "metadata": {},
   "outputs": [],
   "source": [
    "def format_dvc_experiments(\n",
    "    exps: dict,\n",
    "    target=\"energy\",\n",
    "    allow_duplicated_models=False,\n",
    "    caption: str | None = None,\n",
    "    label: str | None = None,\n",
    ") -> tuple[pd.DataFrame, pd.DataFrame, str]:\n",
    "    df = pd.DataFrame(exps)\n",
    "    df = df.dropna(subset=[\"Experiment\"]).reset_index(drop=True)\n",
    "    metrics = [col for col in df.columns if f\"{target}_metrics.json\" in col]\n",
    "    params_col = [f\"train.{target}.selected\"]\n",
    "\n",
    "    df = pd.DataFrame(exps, columns=metrics + params_col)\n",
    "    df = df.dropna()\n",
    "    if not allow_duplicated_models:\n",
    "        df = df.drop_duplicates(subset=params_col)\n",
    "\n",
    "    # strip the prefix in the col name until :\n",
    "    df.columns = [col.split(\":\")[1] if \":\" in col else col for col in df.columns]\n",
    "    df = df.drop(columns=[\"avg_fit_time\", \"avg_pred_time\"])\n",
    "    df = df.sort_values(\"pinball_loss.mean\", ascending=False, ignore_index=True)\n",
    "\n",
    "    # adjust names of models\n",
    "    df[f\"train.{target}.selected\"] = df[f\"train.{target}.selected\"].replace(\n",
    "        {\n",
    "            \"lgbm\": \"LightGBM\",\n",
    "            \"xgb-custom\": \"XGBoost\",\n",
    "            \"catboost\": \"CatBoost\",\n",
    "            \"quantreg\": \"Quantile Regression\",\n",
    "            \"benchmark\": \"Benchmark\",\n",
    "        }\n",
    "    )\n",
    "    print(df)\n",
    "    formatted_table = format_table_with_metrics_and_highlighting(df, target=target)\n",
    "    # formatted_table = formatted_table.drop(\n",
    "    #     columns=[r\"50\\% Interval Score\", r\"95\\% Interval Score\"]\n",
    "    # )\n",
    "\n",
    "    latex_code = formatted_table.to_latex(\n",
    "        index=False,\n",
    "        escape=False,\n",
    "        caption=caption,\n",
    "        label=label,\n",
    "        position=\"htp\",\n",
    "        column_format=\"lrrrrr\",\n",
    "    )\n",
    "    return df, formatted_table, latex_code"
   ]
  },
  {
   "cell_type": "code",
   "execution_count": null,
   "metadata": {},
   "outputs": [],
   "source": [
    "df_bikes, _, bikes_table = format_dvc_experiments(\n",
    "    exps,\n",
    "    target=\"bikes\",\n",
    "    caption=\"Results of Timeseries Cross-Validation on the Daily Bike Count Dataset. Best values are highlighted in bold.\",\n",
    "    label=\"tab:bikes_results\",\n",
    "    allow_duplicated_models=True,\n",
    ")\n",
    "df_bikes"
   ]
  },
  {
   "cell_type": "code",
   "execution_count": null,
   "metadata": {},
   "outputs": [],
   "source": [
    "_, _, energy_table = format_dvc_experiments(\n",
    "    exps,\n",
    "    target=\"energy\",\n",
    "    caption=\"Results of Timeseries Cross-Validation on the Hourly Electricity Demand Dataset. Best values are highlighted in bold.\",\n",
    "    label=\"tab:energy_results\",\n",
    "    allow_duplicated_models=True,\n",
    ")"
   ]
  },
  {
   "cell_type": "code",
   "execution_count": null,
   "metadata": {},
   "outputs": [],
   "source": [
    "print(bikes_table)"
   ]
  },
  {
   "cell_type": "code",
   "execution_count": null,
   "metadata": {},
   "outputs": [],
   "source": [
    "print(energy_table)"
   ]
  },
  {
   "cell_type": "code",
   "execution_count": null,
   "metadata": {},
   "outputs": [],
   "source": []
  },
  {
   "cell_type": "code",
   "execution_count": null,
   "metadata": {},
   "outputs": [],
   "source": []
  }
 ],
 "metadata": {
  "kernelspec": {
   "display_name": ".venv",
   "language": "python",
   "name": "python3"
  },
  "language_info": {
   "codemirror_mode": {
    "name": "ipython",
    "version": 3
   },
   "file_extension": ".py",
   "mimetype": "text/x-python",
   "name": "python",
   "nbconvert_exporter": "python",
   "pygments_lexer": "ipython3",
   "version": "3.10.13"
  }
 },
 "nbformat": 4,
 "nbformat_minor": 2
}
