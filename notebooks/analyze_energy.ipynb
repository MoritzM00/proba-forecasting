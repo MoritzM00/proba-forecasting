{
 "cells": [
  {
   "cell_type": "code",
   "execution_count": null,
   "metadata": {},
   "outputs": [],
   "source": [
    "%load_ext autoreload\n",
    "%autoreload 2"
   ]
  },
  {
   "cell_type": "code",
   "execution_count": null,
   "metadata": {},
   "outputs": [],
   "source": [
    "import numpy as np\n",
    "import pandas as pd\n",
    "import seaborn as sns\n",
    "\n",
    "sns.set_theme(style=\"ticks\")"
   ]
  },
  {
   "cell_type": "code",
   "execution_count": null,
   "metadata": {},
   "outputs": [],
   "source": [
    "load = pd.read_parquet(\"../data/energy.parquet\").asfreq(\"h\")"
   ]
  },
  {
   "cell_type": "code",
   "execution_count": null,
   "metadata": {},
   "outputs": [],
   "source": [
    "sns.lineplot(load)"
   ]
  },
  {
   "cell_type": "code",
   "execution_count": null,
   "metadata": {},
   "outputs": [],
   "source": [
    "sns.lineplot(load.query(\"date_time.dt.year == 2023\"))"
   ]
  },
  {
   "cell_type": "markdown",
   "metadata": {},
   "source": [
    "## Seasonalities"
   ]
  },
  {
   "cell_type": "code",
   "execution_count": null,
   "metadata": {},
   "outputs": [],
   "source": [
    "# groupby month and show grouped boxplot\n",
    "load[\"month\"] = load.index.month\n",
    "load[\"day\"] = load.index.day\n",
    "load[\"hour\"] = load.index.hour\n",
    "load[\"weekday\"] = load.index.weekday\n",
    "sns.boxplot(x=\"month\", y=\"load\", data=load)"
   ]
  },
  {
   "cell_type": "code",
   "execution_count": null,
   "metadata": {},
   "outputs": [],
   "source": [
    "sns.boxplot(x=\"weekday\", y=\"load\", data=load)"
   ]
  },
  {
   "cell_type": "code",
   "execution_count": null,
   "metadata": {},
   "outputs": [],
   "source": [
    "sns.boxplot(x=\"hour\", y=\"load\", data=load)"
   ]
  },
  {
   "cell_type": "code",
   "execution_count": null,
   "metadata": {},
   "outputs": [],
   "source": [
    "load[\"load\"].rolling(52 * 7 * 24).mean().plot()"
   ]
  },
  {
   "cell_type": "markdown",
   "metadata": {},
   "source": [
    "## Removing the yearly seasonality"
   ]
  },
  {
   "cell_type": "code",
   "execution_count": null,
   "metadata": {},
   "outputs": [],
   "source": [
    "load[\"logLoad\"] = np.log(load[\"load\"])\n",
    "load[\"logLoad\"].plot()"
   ]
  },
  {
   "cell_type": "code",
   "execution_count": null,
   "metadata": {},
   "outputs": [],
   "source": [
    "from sktime.forecasting.all import PolynomialTrendForecaster\n",
    "from sktime.transformations.series.detrend import Detrender\n",
    "\n",
    "model = PolynomialTrendForecaster(degree=2)\n",
    "detrender = Detrender(forecaster=model)\n",
    "\n",
    "detrender.fit(load[\"logLoad\"])"
   ]
  },
  {
   "cell_type": "code",
   "execution_count": null,
   "metadata": {},
   "outputs": [],
   "source": [
    "detrender.transform(load[\"logLoad\"]).plot()"
   ]
  },
  {
   "cell_type": "code",
   "execution_count": null,
   "metadata": {},
   "outputs": [],
   "source": [
    "y = load[\"load\"]"
   ]
  },
  {
   "cell_type": "code",
   "execution_count": null,
   "metadata": {},
   "outputs": [],
   "source": [
    "from sktime.forecasting.compose import TransformedTargetForecaster\n",
    "from sktime.forecasting.darts import DartsXGBModel\n",
    "from sktime.transformations.series.boxcox import LogTransformer\n",
    "\n",
    "# from sktime.transformations.series.detrend import Deseasonalizer\n",
    "\n",
    "\n",
    "quantiles = [0.025, 0.25, 0.5, 0.75, 0.975]\n",
    "# model = DartsLinearRegressionModel(\n",
    "#     lags=24,\n",
    "#     output_chunk_length=6,\n",
    "#     likelihood=\"quantile\",\n",
    "#     quantiles=quantiles,\n",
    "#     multi_models=True,\n",
    "#     kwargs=dict(solver=\"highs-ipm\"),\n",
    "# )\n",
    "model = DartsXGBModel(\n",
    "    lags=24 * 7,\n",
    "    output_chunk_length=24,\n",
    "    likelihood=\"quantile\",\n",
    "    quantiles=quantiles,\n",
    "    multi_models=False,\n",
    "    kwargs=dict(n_jobs=1),\n",
    ")\n",
    "\n",
    "forecaster = TransformedTargetForecaster(\n",
    "    [\n",
    "        LogTransformer(),\n",
    "        Detrender(PolynomialTrendForecaster(degree=2)),\n",
    "        model,\n",
    "    ]\n",
    ")\n",
    "forecaster"
   ]
  },
  {
   "cell_type": "code",
   "execution_count": null,
   "metadata": {},
   "outputs": [],
   "source": [
    "import holidays\n",
    "from sktime.transformations.series.holiday import (\n",
    "    HolidayFeatures,\n",
    ")\n",
    "\n",
    "calender = holidays.country_holidays(\"DE\", subdiv=\"BW\")\n",
    "holiday_features = HolidayFeatures(\n",
    "    calender, return_indicator=True, return_dummies=False\n",
    ")\n",
    "X = holiday_features.fit_transform(y)"
   ]
  },
  {
   "cell_type": "code",
   "execution_count": null,
   "metadata": {},
   "outputs": [],
   "source": [
    "from sktime.forecasting.compose import ForecastingPipeline\n",
    "from sktime.transformations.compose import Logger, YtoX"
   ]
  },
  {
   "cell_type": "code",
   "execution_count": null,
   "metadata": {},
   "outputs": [],
   "source": [
    "from probafcst.forecast import get_featurizer\n",
    "\n",
    "fourier_kwargs = dict(\n",
    "    sp_list=[24, 24 * 7, 24 * 7 * 52],\n",
    "    fourier_terms_list=[6, 3, 1],\n",
    ")\n",
    "\n",
    "featurizer = get_featurizer(\n",
    "    fourier_kwargs=fourier_kwargs,\n",
    "    # datetime_features=[\"hour_of_day\", \"hour_of_week\", \"month_of_year\", \"is_weekend\"],\n",
    "    datetime_features=[\"is_weekend\"],\n",
    "    include_holidays=True,\n",
    "    include_window_summarizer=True,\n",
    ")"
   ]
  },
  {
   "cell_type": "code",
   "execution_count": null,
   "metadata": {},
   "outputs": [],
   "source": [
    "# from sktime.forecasting.compose import make_reduction\n",
    "# from sklearn.linear_model import QuantileRegressor\n",
    "# from sktime.transformations.all import WindowSummarizer, FourierFeatures\n",
    "# from skpro.regression.multiquantile import MultipleQuantileRegressor\n",
    "\n",
    "# transformers = [\n",
    "#     WindowSummarizer(truncate=\"bfill\", lag_feature={\"lag\": [24, 48], \"median\": [[24, 24]]}),\n",
    "#     FourierFeatures(**fourier_kwargs)\n",
    "# ]\n",
    "# regressor = MultipleQuantileRegressor(quantile_regressor=QuantileRegressor(solver=\"highs-ipm\"), alpha=quantiles, alpha_name=\"quantile\", n_jobs=-1)\n",
    "\n",
    "# reducer = make_reduction(estimator=regressor, strategy=\"direct\")\n",
    "# reducer.fit(y, fh=np.arange(1, 2))"
   ]
  },
  {
   "cell_type": "code",
   "execution_count": null,
   "metadata": {},
   "outputs": [],
   "source": [
    "from sktime.transformations.all import Imputer, Lag\n",
    "\n",
    "\n",
    "def get_pipeline(forecaster, featurizer, logger_name=None):\n",
    "    \"\"\"Get pipeline.\"\"\"\n",
    "    steps = [\n",
    "        (\"y_to_x\", YtoX()),\n",
    "        (\"featurizer\", featurizer),\n",
    "        (\"lags\", Lag(lags=[-24, -24 * 7, 0, 24, 24 * 7])),\n",
    "        (\"imputer\", Imputer(method=\"nearest\")),\n",
    "    ]\n",
    "    if logger_name is not None:\n",
    "        logger = Logger(logger=logger_name, logger_backend=\"datalog\")\n",
    "        steps.append((\"logger\", logger))\n",
    "    steps.append((\"forecaster\", forecaster))\n",
    "\n",
    "    return ForecastingPipeline(steps=steps)\n",
    "\n",
    "\n",
    "pipe = get_pipeline(forecaster, featurizer, logger_name=\"test\")\n",
    "pipe.fit(y.loc[\"2022\":])"
   ]
  },
  {
   "cell_type": "code",
   "execution_count": null,
   "metadata": {},
   "outputs": [],
   "source": [
    "from sktime.transformations.compose import DataLog\n",
    "\n",
    "log = DataLog(\"test\").get_log()\n",
    "log[-1][1][\"X\"].tail(25)"
   ]
  },
  {
   "cell_type": "code",
   "execution_count": null,
   "metadata": {},
   "outputs": [],
   "source": [
    "from probafcst.plotting import plot_quantiles\n",
    "\n",
    "sns.set_theme(style=\"ticks\")\n",
    "y_pred = pipe.predict_quantiles(np.arange(1, 24 * 7), alpha=quantiles)\n",
    "plot_quantiles(y.iloc[-24 * 7 :], y_pred)"
   ]
  },
  {
   "cell_type": "code",
   "execution_count": null,
   "metadata": {},
   "outputs": [],
   "source": [
    "%env PYTHONWARNINGS=ignore"
   ]
  },
  {
   "cell_type": "code",
   "execution_count": null,
   "metadata": {},
   "outputs": [],
   "source": [
    "from probafcst.backtest import backtest, get_window_params\n",
    "\n",
    "wdw = get_window_params(\n",
    "    n_years_initial_window=2, step_length_days=90, forecast_steps_days=7, freq=\"h\"\n",
    ")\n",
    "result = backtest(\n",
    "    pipe, y, **wdw, quantiles=quantiles, backend=\"loky\", splitter_type=\"sliding\"\n",
    ")"
   ]
  },
  {
   "cell_type": "code",
   "execution_count": null,
   "metadata": {},
   "outputs": [],
   "source": [
    "result.eval_results"
   ]
  },
  {
   "cell_type": "code",
   "execution_count": null,
   "metadata": {},
   "outputs": [],
   "source": [
    "worst_preds = result.eval_results[\"test_PinballLoss\"].nlargest(5).index\n",
    "best_preds = result.eval_results[\"test_PinballLoss\"].nsmallest(5).index\n",
    "worst_preds"
   ]
  },
  {
   "cell_type": "code",
   "execution_count": null,
   "metadata": {},
   "outputs": [],
   "source": [
    "for i, (_, y_test, y_pred_quantiles) in result[2].iloc[worst_preds].iterrows():\n",
    "    plot_quantiles(y_test, y_pred_quantiles)"
   ]
  },
  {
   "cell_type": "code",
   "execution_count": null,
   "metadata": {},
   "outputs": [],
   "source": [
    "for i, (_, y_test, y_pred_quantiles) in result[2].iloc[best_preds].iterrows():\n",
    "    plot_quantiles(y_test, y_pred_quantiles)"
   ]
  },
  {
   "cell_type": "code",
   "execution_count": null,
   "metadata": {},
   "outputs": [],
   "source": []
  }
 ],
 "metadata": {
  "kernelspec": {
   "display_name": ".venv",
   "language": "python",
   "name": "python3"
  },
  "language_info": {
   "codemirror_mode": {
    "name": "ipython",
    "version": 3
   },
   "file_extension": ".py",
   "mimetype": "text/x-python",
   "name": "python",
   "nbconvert_exporter": "python",
   "pygments_lexer": "ipython3",
   "version": "3.10.13"
  }
 },
 "nbformat": 4,
 "nbformat_minor": 2
}
