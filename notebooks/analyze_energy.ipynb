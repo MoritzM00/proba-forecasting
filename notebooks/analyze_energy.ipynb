{
 "cells": [
  {
   "cell_type": "code",
   "execution_count": null,
   "metadata": {},
   "outputs": [],
   "source": [
    "%load_ext autoreload\n",
    "%autoreload 2"
   ]
  },
  {
   "cell_type": "code",
   "execution_count": null,
   "metadata": {},
   "outputs": [],
   "source": [
    "import numpy as np\n",
    "import pandas as pd\n",
    "import seaborn as sns\n",
    "\n",
    "sns.set_theme(style=\"ticks\")"
   ]
  },
  {
   "cell_type": "code",
   "execution_count": null,
   "metadata": {},
   "outputs": [],
   "source": [
    "load = pd.read_parquet(\"../data/energy.parquet\").asfreq(\"h\")"
   ]
  },
  {
   "cell_type": "code",
   "execution_count": null,
   "metadata": {},
   "outputs": [],
   "source": [
    "sns.lineplot(load)"
   ]
  },
  {
   "cell_type": "code",
   "execution_count": null,
   "metadata": {},
   "outputs": [],
   "source": [
    "sns.lineplot(load.query(\"date_time.dt.year == 2023\"))"
   ]
  },
  {
   "cell_type": "markdown",
   "metadata": {},
   "source": [
    "## Seasonalities"
   ]
  },
  {
   "cell_type": "code",
   "execution_count": null,
   "metadata": {},
   "outputs": [],
   "source": [
    "# groupby month and show grouped boxplot\n",
    "load[\"month\"] = load.index.month\n",
    "load[\"day\"] = load.index.day\n",
    "load[\"hour\"] = load.index.hour\n",
    "load[\"weekday\"] = load.index.weekday\n",
    "sns.boxplot(x=\"month\", y=\"load\", data=load)"
   ]
  },
  {
   "cell_type": "code",
   "execution_count": null,
   "metadata": {},
   "outputs": [],
   "source": [
    "sns.boxplot(x=\"weekday\", y=\"load\", data=load)"
   ]
  },
  {
   "cell_type": "code",
   "execution_count": null,
   "metadata": {},
   "outputs": [],
   "source": [
    "sns.boxplot(x=\"hour\", y=\"load\", data=load)"
   ]
  },
  {
   "cell_type": "markdown",
   "metadata": {},
   "source": [
    "## Removing the yearly seasonality"
   ]
  },
  {
   "cell_type": "code",
   "execution_count": null,
   "metadata": {},
   "outputs": [],
   "source": [
    "from sktime.forecasting.exp_smoothing import ExponentialSmoothing\n",
    "from sktime.transformations.series.detrend import Deseasonalizer, Detrender\n",
    "\n",
    "model = ExponentialSmoothing(sp=52 * 24 * 7)\n",
    "detrender = Detrender(forecaster=model)\n",
    "\n",
    "detrender.fit(load[\"load\"])"
   ]
  },
  {
   "cell_type": "code",
   "execution_count": null,
   "metadata": {},
   "outputs": [],
   "source": [
    "detrender.transform(load[\"load\"]).loc[\"2023\"].plot()"
   ]
  },
  {
   "cell_type": "code",
   "execution_count": null,
   "metadata": {},
   "outputs": [],
   "source": [
    "Deseasonalizer(sp=52 * 24 * 7).fit_transform(load[\"load\"]).loc[\"2019\"].plot()"
   ]
  },
  {
   "cell_type": "code",
   "execution_count": null,
   "metadata": {},
   "outputs": [],
   "source": [
    "y = load.loc[\"2019\":, \"load\"]\n",
    "y.info()"
   ]
  },
  {
   "cell_type": "code",
   "execution_count": null,
   "metadata": {},
   "outputs": [],
   "source": [
    "from sktime.forecasting.compose import TransformedTargetForecaster\n",
    "from sktime.forecasting.darts import DartsLinearRegressionModel\n",
    "from sktime.transformations.series.boxcox import LogTransformer\n",
    "\n",
    "# from sktime.transformations.series.detrend import Deseasonalizer\n",
    "\n",
    "\n",
    "quantiles = [0.025, 0.25, 0.5, 0.75, 0.975]\n",
    "model = DartsLinearRegressionModel(\n",
    "    lags=24,\n",
    "    output_chunk_length=24,\n",
    "    likelihood=\"quantile\",\n",
    "    quantiles=quantiles,\n",
    "    multi_models=False,\n",
    "    kwargs=dict(solver=\"highs-ipm\"),\n",
    ")\n",
    "# model = DartsXGBModel(\n",
    "#         lags=24*7,\n",
    "#         output_chunk_length=24,\n",
    "#         likelihood=\"quantile\",\n",
    "#         quantiles=quantiles,\n",
    "#         multi_models=False,\n",
    "#         kwargs=dict(n_jobs=1)\n",
    "# )\n",
    "\n",
    "forecaster = TransformedTargetForecaster(\n",
    "    [\n",
    "        LogTransformer(),\n",
    "        # Detrender(ExponentialSmoothing(sp=52 * 24 * 7)),\n",
    "        # Deseasonalizer(sp=52 * 24 * 7),\n",
    "        model,\n",
    "    ]\n",
    ")\n",
    "forecaster"
   ]
  },
  {
   "cell_type": "code",
   "execution_count": null,
   "metadata": {},
   "outputs": [],
   "source": [
    "from sktime.forecasting.compose import ForecastingPipeline\n",
    "from sktime.transformations.compose import YtoX\n",
    "from sktime.transformations.series.date import DateTimeFeatures\n",
    "from sktime.transformations.series.fourier import FourierFeatures\n",
    "\n",
    "# from sktime.transformations.series.holiday import CountryHolidaysTransformer\n",
    "\n",
    "pipe = ForecastingPipeline(\n",
    "    [\n",
    "        YtoX(),\n",
    "        DateTimeFeatures(ts_freq=\"H\", manual_selection=[\"is_weekend\"]),\n",
    "        FourierFeatures(sp_list=[24, 24 * 7], fourier_terms_list=[1, 1], freq=\"h\"),\n",
    "        forecaster,\n",
    "    ]\n",
    ")\n",
    "pipe.fit(y.loc[\"2022\":])"
   ]
  },
  {
   "cell_type": "code",
   "execution_count": null,
   "metadata": {},
   "outputs": [],
   "source": [
    "from probafcst.plotting import plot_quantiles\n",
    "\n",
    "y_pred = pipe.predict_quantiles(np.arange(1, 25), alpha=quantiles)\n",
    "plot_quantiles(y.iloc[-24 * 7 :], y_pred)"
   ]
  },
  {
   "cell_type": "code",
   "execution_count": null,
   "metadata": {},
   "outputs": [],
   "source": [
    "from probafcst.backtest import backtest, get_window_params\n",
    "\n",
    "wdw = get_window_params(\n",
    "    n_years_initial_window=2, step_length_days=90, forecast_steps_days=1, freq=\"h\"\n",
    ")\n",
    "result = backtest(\n",
    "    pipe, y, **wdw, quantiles=quantiles, backend=\"loky\", splitter_type=\"sliding\"\n",
    ")"
   ]
  },
  {
   "cell_type": "code",
   "execution_count": null,
   "metadata": {},
   "outputs": [],
   "source": [
    "for i, (_, y_test, y_pred_quantiles) in result[2].iloc[::4].iterrows():\n",
    "    plot_quantiles(y_test, y_pred_quantiles)"
   ]
  },
  {
   "cell_type": "code",
   "execution_count": null,
   "metadata": {},
   "outputs": [],
   "source": []
  }
 ],
 "metadata": {
  "kernelspec": {
   "display_name": ".venv",
   "language": "python",
   "name": "python3"
  },
  "language_info": {
   "codemirror_mode": {
    "name": "ipython",
    "version": 3
   },
   "file_extension": ".py",
   "mimetype": "text/x-python",
   "name": "python",
   "nbconvert_exporter": "python",
   "pygments_lexer": "ipython3",
   "version": "3.10.13"
  }
 },
 "nbformat": 4,
 "nbformat_minor": 2
}
