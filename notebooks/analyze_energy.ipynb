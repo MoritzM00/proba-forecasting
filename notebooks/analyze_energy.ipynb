{
 "cells": [
  {
   "cell_type": "code",
   "execution_count": null,
   "metadata": {},
   "outputs": [],
   "source": [
    "%load_ext autoreload\n",
    "%autoreload 2"
   ]
  },
  {
   "cell_type": "code",
   "execution_count": null,
   "metadata": {},
   "outputs": [],
   "source": [
    "import numpy as np\n",
    "import pandas as pd\n",
    "import seaborn as sns\n",
    "\n",
    "sns.set_theme(style=\"ticks\")"
   ]
  },
  {
   "cell_type": "code",
   "execution_count": null,
   "metadata": {},
   "outputs": [],
   "source": [
    "load = pd.read_parquet(\"../data/energy.parquet\").asfreq(\"h\")"
   ]
  },
  {
   "cell_type": "code",
   "execution_count": null,
   "metadata": {},
   "outputs": [],
   "source": [
    "sns.lineplot(load)"
   ]
  },
  {
   "cell_type": "code",
   "execution_count": null,
   "metadata": {},
   "outputs": [],
   "source": [
    "sns.lineplot(load.query(\"date_time.dt.year == 2023\"))"
   ]
  },
  {
   "cell_type": "markdown",
   "metadata": {},
   "source": [
    "## Seasonalities"
   ]
  },
  {
   "cell_type": "code",
   "execution_count": null,
   "metadata": {},
   "outputs": [],
   "source": [
    "# groupby month and show grouped boxplot\n",
    "load[\"month\"] = load.index.month\n",
    "load[\"day\"] = load.index.day\n",
    "load[\"hour\"] = load.index.hour\n",
    "load[\"weekday\"] = load.index.weekday\n",
    "sns.boxplot(x=\"month\", y=\"load\", data=load)"
   ]
  },
  {
   "cell_type": "code",
   "execution_count": null,
   "metadata": {},
   "outputs": [],
   "source": [
    "sns.boxplot(x=\"weekday\", y=\"load\", data=load)"
   ]
  },
  {
   "cell_type": "code",
   "execution_count": null,
   "metadata": {},
   "outputs": [],
   "source": [
    "sns.boxplot(x=\"hour\", y=\"load\", data=load)"
   ]
  },
  {
   "cell_type": "code",
   "execution_count": null,
   "metadata": {},
   "outputs": [],
   "source": [
    "load[\"load\"].rolling(52 * 7 * 24).mean().plot()"
   ]
  },
  {
   "cell_type": "markdown",
   "metadata": {},
   "source": [
    "## Removing the seasonality"
   ]
  },
  {
   "cell_type": "code",
   "execution_count": null,
   "metadata": {},
   "outputs": [],
   "source": [
    "load[\"logLoad\"] = np.log(load[\"load\"])\n",
    "load[\"logLoad\"].plot()"
   ]
  },
  {
   "cell_type": "code",
   "execution_count": null,
   "metadata": {},
   "outputs": [],
   "source": []
  },
  {
   "cell_type": "code",
   "execution_count": null,
   "metadata": {},
   "outputs": [],
   "source": [
    "import holidays\n",
    "from sklearn.linear_model import LinearRegression\n",
    "from sktime.forecasting.compose import (\n",
    "    ForecastingPipeline,\n",
    "    TransformedTargetForecaster,\n",
    "    make_reduction,\n",
    ")\n",
    "from sktime.transformations.all import (\n",
    "    DateTimeFeatures,\n",
    "    FourierFeatures,\n",
    "    Logger,\n",
    "    YtoX,\n",
    ")\n",
    "from sktime.transformations.compose import FeatureUnion\n",
    "from sktime.transformations.series.holiday import (\n",
    "    HolidayFeatures,\n",
    ")\n",
    "from sktime.utils.plotting import plot_series\n",
    "\n",
    "fourier_kwargs = {\"sp_list\": [24, 24 * 7, 24 * 365], \"fourier_terms_list\": [1, 1, 1]}\n",
    "logger = Logger(logger_backend=\"datalog\", logger=\"features\")\n",
    "\n",
    "calender = holidays.country_holidays(\"DE\", subdiv=\"BW\")\n",
    "holiday_features = HolidayFeatures(\n",
    "    calender, return_indicator=True, return_dummies=False\n",
    ")\n",
    "featurizer = FeatureUnion(\n",
    "    [\n",
    "        FourierFeatures(**fourier_kwargs),\n",
    "        DateTimeFeatures(manual_selection=[\"is_weekend\"]),\n",
    "        holiday_features,\n",
    "    ]\n",
    ")\n",
    "lr = make_reduction(LinearRegression(), window_length=30, strategy=\"recursive\")\n",
    "model = ForecastingPipeline([YtoX(), featurizer, lr])\n",
    "\n",
    "y = load[\"load\"].loc[\"2022\":]\n",
    "model.fit(y)\n",
    "y_pred = model.predict(np.arange(1, 24 * 7 * 4))\n",
    "plot_series(y.iloc[-24 * 7 * 2 :], y_pred)"
   ]
  },
  {
   "cell_type": "markdown",
   "metadata": {},
   "source": [
    "## Modelling"
   ]
  },
  {
   "cell_type": "code",
   "execution_count": null,
   "metadata": {},
   "outputs": [],
   "source": [
    "y = load[\"load\"].loc[\"2022\":]"
   ]
  },
  {
   "cell_type": "code",
   "execution_count": null,
   "metadata": {},
   "outputs": [],
   "source": [
    "from sktime.transformations.series.boxcox import LogTransformer\n",
    "\n",
    "from probafcst.models.darts import get_xgboost_model\n",
    "\n",
    "# from sktime.transformations.series.detrend import Deseasonalizer\n",
    "\n",
    "\n",
    "quantiles = [0.025, 0.25, 0.5, 0.75, 0.975]\n",
    "# model = DartsLinearRegressionModel(\n",
    "#     lags=24,\n",
    "#     output_chunk_length=6,\n",
    "#     likelihood=\"quantile\",\n",
    "#     quantiles=quantiles,\n",
    "#     multi_models=True,\n",
    "#     kwargs=dict(solver=\"highs-ipm\"),\n",
    "# )\n",
    "# model = DartsXGBModel(\n",
    "#     lags=24 * 7,\n",
    "#     output_chunk_length=24,\n",
    "#     likelihood=\"quantile\",\n",
    "#     quantiles=quantiles,\n",
    "#     multi_models=False,\n",
    "#     kwargs=dict(n_jobs=1),\n",
    "# )\n",
    "# model.set_config(warnings=\"off\")\n",
    "model = get_xgboost_model(\n",
    "    freq=\"h\", quantiles=quantiles, xgb_kwargs=dict(n_jobs=1), output_chunk_length=24\n",
    ")\n",
    "\n",
    "forecaster = TransformedTargetForecaster(\n",
    "    [\n",
    "        LogTransformer(),\n",
    "        # Detrender(PolynomialTrendForecaster(degree=2)),\n",
    "        model,\n",
    "    ]\n",
    ")\n",
    "forecaster"
   ]
  },
  {
   "cell_type": "code",
   "execution_count": null,
   "metadata": {},
   "outputs": [],
   "source": []
  },
  {
   "cell_type": "code",
   "execution_count": null,
   "metadata": {},
   "outputs": [],
   "source": [
    "from sktime.forecasting.compose import ForecastingPipeline\n",
    "from sktime.transformations.compose import YtoX\n",
    "\n",
    "pipeline = ForecastingPipeline([YtoX(), holiday_features, forecaster])"
   ]
  },
  {
   "cell_type": "code",
   "execution_count": null,
   "metadata": {},
   "outputs": [],
   "source": [
    "from probafcst.backtest import backtest, get_window_params\n",
    "\n",
    "wdw = get_window_params(\n",
    "    n_years_initial_window=1, step_length_days=90, forecast_steps_days=7, freq=\"h\"\n",
    ")\n",
    "result = backtest(\n",
    "    pipeline, y, **wdw, quantiles=quantiles, backend=\"loky\", splitter_type=\"sliding\"\n",
    ")"
   ]
  },
  {
   "cell_type": "code",
   "execution_count": null,
   "metadata": {},
   "outputs": [],
   "source": [
    "result.eval_results"
   ]
  },
  {
   "cell_type": "code",
   "execution_count": null,
   "metadata": {},
   "outputs": [],
   "source": [
    "worst_preds = result.eval_results[\"test_PinballLoss\"].nlargest(2).index\n",
    "best_preds = result.eval_results[\"test_PinballLoss\"].nsmallest(2).index\n",
    "worst_preds"
   ]
  },
  {
   "cell_type": "code",
   "execution_count": null,
   "metadata": {},
   "outputs": [],
   "source": [
    "from probafcst.plotting import plot_quantiles\n",
    "\n",
    "for i, (_, y_test, y_pred_quantiles) in result[2].iloc[worst_preds].iterrows():\n",
    "    plot_quantiles(y_test, y_pred_quantiles)"
   ]
  },
  {
   "cell_type": "code",
   "execution_count": null,
   "metadata": {},
   "outputs": [],
   "source": [
    "for i, (_, y_test, y_pred_quantiles) in result[2].iloc[best_preds].iterrows():\n",
    "    plot_quantiles(y_test, y_pred_quantiles)"
   ]
  },
  {
   "cell_type": "code",
   "execution_count": null,
   "metadata": {},
   "outputs": [],
   "source": []
  },
  {
   "cell_type": "code",
   "execution_count": null,
   "metadata": {},
   "outputs": [],
   "source": []
  }
 ],
 "metadata": {
  "kernelspec": {
   "display_name": ".venv",
   "language": "python",
   "name": "python3"
  },
  "language_info": {
   "codemirror_mode": {
    "name": "ipython",
    "version": 3
   },
   "file_extension": ".py",
   "mimetype": "text/x-python",
   "name": "python",
   "nbconvert_exporter": "python",
   "pygments_lexer": "ipython3",
   "version": "3.10.13"
  }
 },
 "nbformat": 4,
 "nbformat_minor": 2
}
