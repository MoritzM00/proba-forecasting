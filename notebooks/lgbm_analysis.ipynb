{
 "cells": [
  {
   "cell_type": "code",
   "execution_count": null,
   "metadata": {},
   "outputs": [],
   "source": [
    "import pickle\n",
    "\n",
    "import matplotlib.pyplot as plt\n",
    "import numpy as np\n",
    "\n",
    "# Load the fitted LightGBM model\n",
    "model_path = \"../models/bikes_model.pkl\"\n",
    "with open(model_path, \"rb\") as file:\n",
    "    lgbm_model = pickle.load(file)\n",
    "    assert (\n",
    "        lgbm_model.__class__.__name__ == \"LGBMQuantileForecaster\"\n",
    "    ), \"only lgbm model supported\"\n",
    "\n",
    "# Extract individual quantile models from the MultipleQuantileRegressor\n",
    "quantile_models = lgbm_model.model.regressors_  # Dictionary of models keyed by quantile\n",
    "\n",
    "# Step 1: Feature Importance Analysis\n",
    "feature_importances = []\n",
    "\n",
    "for quantile, model in quantile_models.items():\n",
    "    importance = (\n",
    "        model.feature_importances_\n",
    "    )  # Get feature importance from each quantile-specific model\n",
    "    feature_importances.append(importance)\n",
    "\n",
    "# Calculate average feature importance across all quantile models\n",
    "average_importance = np.mean(feature_importances, axis=0)\n",
    "feature_names = lgbm_model.feature_names_in_\n",
    "\n",
    "# Sort feature importances\n",
    "sorted_indices = np.argsort(average_importance)[::-1]\n",
    "sorted_feature_names = [feature_names[i] for i in sorted_indices]\n",
    "sorted_importances = average_importance[sorted_indices]\n",
    "\n",
    "n_max = 55\n",
    "# Plot feature importances\n",
    "plt.figure(figsize=(8, 10))\n",
    "plt.barh(sorted_feature_names[:n_max], sorted_importances[:n_max], align=\"center\")\n",
    "plt.xlabel(\"Average Feature Importance\")\n",
    "plt.ylabel(\"Feature\")\n",
    "plt.title(\"Feature Importance (Averaged Across Quantile-Levels)\")\n",
    "plt.gca().invert_yaxis()\n",
    "plt.tight_layout()\n",
    "plt.show()"
   ]
  },
  {
   "cell_type": "code",
   "execution_count": null,
   "metadata": {},
   "outputs": [],
   "source": [
    "median_model = lgbm_model.model.regressors_[0.5]\n",
    "bst = median_model._Booster\n",
    "\n",
    "len(median_model.feature_importances_)"
   ]
  },
  {
   "cell_type": "code",
   "execution_count": null,
   "metadata": {},
   "outputs": [],
   "source": [
    "from lightgbm import plot_importance, plot_split_value_histogram, plot_tree\n",
    "\n",
    "plot_split_value_histogram(bst, feature=\"precipitation_sum\")"
   ]
  },
  {
   "cell_type": "code",
   "execution_count": null,
   "metadata": {},
   "outputs": [],
   "source": [
    "plot_importance(\n",
    "    lgbm_model.model.regressors_[0.975]._Booster,\n",
    "    importance_type=\"gain\",\n",
    "    max_num_features=20,\n",
    ")"
   ]
  },
  {
   "cell_type": "code",
   "execution_count": null,
   "metadata": {},
   "outputs": [],
   "source": [
    "plot_importance(bst, importance_type=\"gain\", max_num_features=20)"
   ]
  },
  {
   "cell_type": "code",
   "execution_count": null,
   "metadata": {},
   "outputs": [],
   "source": [
    "plot_tree(bst, figsize=(20, 20), tree_index=0)"
   ]
  },
  {
   "cell_type": "code",
   "execution_count": null,
   "metadata": {},
   "outputs": [],
   "source": [
    "plot_tree(bst, figsize=(20, 20), tree_index=249)"
   ]
  },
  {
   "cell_type": "code",
   "execution_count": null,
   "metadata": {},
   "outputs": [],
   "source": []
  }
 ],
 "metadata": {
  "kernelspec": {
   "display_name": ".venv",
   "language": "python",
   "name": "python3"
  },
  "language_info": {
   "codemirror_mode": {
    "name": "ipython",
    "version": 3
   },
   "file_extension": ".py",
   "mimetype": "text/x-python",
   "name": "python",
   "nbconvert_exporter": "python",
   "pygments_lexer": "ipython3",
   "version": "3.10.13"
  }
 },
 "nbformat": 4,
 "nbformat_minor": 2
}
