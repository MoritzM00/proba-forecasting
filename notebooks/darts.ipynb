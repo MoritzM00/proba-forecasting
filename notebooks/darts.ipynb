{
 "cells": [
  {
   "cell_type": "code",
   "execution_count": null,
   "metadata": {},
   "outputs": [],
   "source": [
    "import pandas as pd\n",
    "from darts import TimeSeries\n",
    "from darts.models.forecasting.linear_regression_model import LinearRegressionModel\n",
    "from sktime.datasets import load_airline\n",
    "from sktime.forecasting.darts import DartsLinearRegressionModel\n",
    "from sktime.forecasting.model_selection import temporal_train_test_split"
   ]
  },
  {
   "cell_type": "code",
   "execution_count": null,
   "metadata": {},
   "outputs": [],
   "source": [
    "quantiles = [0.025, 0.25, 0.5, 0.75, 0.975]"
   ]
  },
  {
   "cell_type": "code",
   "execution_count": null,
   "metadata": {},
   "outputs": [],
   "source": [
    "y = load_airline()\n",
    "y.head()"
   ]
  },
  {
   "cell_type": "code",
   "execution_count": null,
   "metadata": {},
   "outputs": [],
   "source": [
    "y = pd.read_parquet(\"../data/energy.parquet\")\n",
    "y = TimeSeries.from_dataframe(y).drop_before(pd.Timestamp(\"2022\"))\n",
    "len(y)"
   ]
  },
  {
   "cell_type": "code",
   "execution_count": null,
   "metadata": {},
   "outputs": [],
   "source": [
    "model = LinearRegressionModel(\n",
    "    lags=[-24, -24 * 7],\n",
    "    likelihood=\"quantile\",\n",
    "    quantiles=quantiles,\n",
    "    output_chunk_length=5,\n",
    "    multi_models=False,\n",
    "    solver=\"highs\",\n",
    ")\n",
    "model.fit(y)"
   ]
  },
  {
   "cell_type": "code",
   "execution_count": null,
   "metadata": {},
   "outputs": [],
   "source": [
    "model.predict(n=5, predict_likelihood_parameters=True)"
   ]
  },
  {
   "cell_type": "markdown",
   "metadata": {},
   "source": [
    "## SKTIME"
   ]
  },
  {
   "cell_type": "code",
   "execution_count": null,
   "metadata": {},
   "outputs": [],
   "source": [
    "y_df = y.pd_dataframe()\n",
    "y_df.head()"
   ]
  },
  {
   "cell_type": "code",
   "execution_count": null,
   "metadata": {},
   "outputs": [],
   "source": [
    "forecaster = DartsLinearRegressionModel(\n",
    "    lags=[-24, -24 * 7],\n",
    "    likelihood=\"quantile\",\n",
    "    quantiles=quantiles,\n",
    "    output_chunk_length=5,\n",
    "    multi_models=False,\n",
    ")\n",
    "forecaster.fit(y_df)\n",
    "y_pred = forecaster.predict_quantiles(fh=[1, 2, 3, 4, 5], alpha=quantiles)\n",
    "y_pred"
   ]
  },
  {
   "cell_type": "code",
   "execution_count": null,
   "metadata": {},
   "outputs": [],
   "source": [
    "# bikes = pd.read_parquet(\"../data/bikes.parquet\")\n",
    "bikes = pd.read_parquet(\"../data/energy.parquet\")\n",
    "bikes.head()"
   ]
  },
  {
   "cell_type": "code",
   "execution_count": null,
   "metadata": {},
   "outputs": [],
   "source": [
    "forecaster = DartsLinearRegressionModel(\n",
    "    lags=[-7, -14],\n",
    "    likelihood=\"quantile\",\n",
    "    quantiles=quantiles,\n",
    "    output_chunk_length=1,\n",
    "    multi_models=False,\n",
    ")\n",
    "forecaster.fit(bikes)\n",
    "y_pred = forecaster.predict_quantiles(fh=[1, 2, 3, 4, 5], alpha=quantiles)\n",
    "y_pred"
   ]
  },
  {
   "cell_type": "code",
   "execution_count": null,
   "metadata": {},
   "outputs": [],
   "source": [
    "# bikes = load_airline()\n",
    "bikes = pd.read_parquet(\"../data/bikes.parquet\")"
   ]
  },
  {
   "cell_type": "code",
   "execution_count": null,
   "metadata": {},
   "outputs": [],
   "source": [
    "train, test = temporal_train_test_split(bikes, test_size=0.2)\n",
    "len(train), len(test)"
   ]
  },
  {
   "cell_type": "code",
   "execution_count": null,
   "metadata": {},
   "outputs": [],
   "source": [
    "import numpy as np\n",
    "\n",
    "forecaster = DartsLinearRegressionModel(\n",
    "    lags=3,\n",
    "    likelihood=\"quantile\",\n",
    "    quantiles=quantiles,\n",
    "    output_chunk_length=1,\n",
    "    multi_models=False,\n",
    ")\n",
    "forecaster.fit(train)\n",
    "fh = np.arange(1, len(test) + 1)\n",
    "y_pred = forecaster.predict_quantiles(fh=fh, alpha=quantiles)"
   ]
  },
  {
   "cell_type": "code",
   "execution_count": null,
   "metadata": {},
   "outputs": [],
   "source": [
    "y_pred"
   ]
  },
  {
   "cell_type": "code",
   "execution_count": null,
   "metadata": {},
   "outputs": [],
   "source": []
  }
 ],
 "metadata": {
  "kernelspec": {
   "display_name": ".venv",
   "language": "python",
   "name": "python3"
  },
  "language_info": {
   "codemirror_mode": {
    "name": "ipython",
    "version": 3
   },
   "file_extension": ".py",
   "mimetype": "text/x-python",
   "name": "python",
   "nbconvert_exporter": "python",
   "pygments_lexer": "ipython3",
   "version": "3.10.13"
  }
 },
 "nbformat": 4,
 "nbformat_minor": 2
}
