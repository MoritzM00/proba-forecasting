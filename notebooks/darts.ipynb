{
 "cells": [
  {
   "cell_type": "code",
   "execution_count": null,
   "metadata": {},
   "outputs": [],
   "source": [
    "%load_ext autoreload\n",
    "\n",
    "%autoreload 2"
   ]
  },
  {
   "cell_type": "code",
   "execution_count": null,
   "metadata": {},
   "outputs": [],
   "source": [
    "import pandas as pd\n",
    "import seaborn as sns\n",
    "from darts import TimeSeries\n",
    "from darts.models.forecasting.linear_regression_model import LinearRegressionModel\n",
    "\n",
    "from probafcst.plotting import plot_quantiles\n",
    "\n",
    "sns.set_theme(style=\"ticks\")"
   ]
  },
  {
   "cell_type": "code",
   "execution_count": null,
   "metadata": {},
   "outputs": [],
   "source": [
    "quantiles = [0.025, 0.25, 0.5, 0.75, 0.975]"
   ]
  },
  {
   "cell_type": "code",
   "execution_count": null,
   "metadata": {},
   "outputs": [],
   "source": [
    "y = pd.read_parquet(\"../data/energy.parquet\")\n",
    "y = TimeSeries.from_dataframe(y).drop_before(pd.Timestamp(\"2022\"))\n",
    "len(y)"
   ]
  },
  {
   "cell_type": "code",
   "execution_count": null,
   "metadata": {},
   "outputs": [],
   "source": [
    "add_encoders = {\"cyclic\": {\"future\": [\"hour\", \"day_of_week\", \"month\"]}}"
   ]
  },
  {
   "cell_type": "code",
   "execution_count": null,
   "metadata": {},
   "outputs": [],
   "source": [
    "DAY_DURATION = 24\n",
    "\n",
    "lags = [-DAY_DURATION * i for i in [1, 7]]\n",
    "lags_future_covariates = [-DAY_DURATION * i for i in [-7, -1, 0, 1, 7]]\n",
    "lags, lags_future_covariates"
   ]
  },
  {
   "cell_type": "code",
   "execution_count": null,
   "metadata": {},
   "outputs": [],
   "source": [
    "model = LinearRegressionModel(\n",
    "    lags=lags,\n",
    "    lags_future_covariates=lags_future_covariates,\n",
    "    add_encoders=add_encoders,\n",
    "    # likelihood=\"quantile\",\n",
    "    # quantiles=quantiles,\n",
    "    output_chunk_length=24,\n",
    "    multi_models=False,\n",
    "    # solver=\"highs-ipm\",\n",
    ")\n",
    "model.fit(y)"
   ]
  },
  {
   "cell_type": "code",
   "execution_count": null,
   "metadata": {},
   "outputs": [],
   "source": [
    "y[-24 * 7 :].plot()\n",
    "model.predict(24 * 7).plot()"
   ]
  },
  {
   "cell_type": "markdown",
   "metadata": {},
   "source": [
    "## SKTIME"
   ]
  },
  {
   "cell_type": "code",
   "execution_count": null,
   "metadata": {},
   "outputs": [],
   "source": [
    "# y = pd.read_parquet(\"../data/energy.parquet\").asfreq(\"h\")\n",
    "y = pd.read_parquet(\"../data/bikes.parquet\").asfreq(\"D\")\n",
    "DAY_DURATION = 1\n",
    "freq = \"D\""
   ]
  },
  {
   "cell_type": "code",
   "execution_count": null,
   "metadata": {},
   "outputs": [],
   "source": [
    "from probafcst.models.darts import get_quantile_regressor\n",
    "\n",
    "forecaster = get_quantile_regressor(quantiles, freq=freq, output_chunk_length=7)\n",
    "forecaster"
   ]
  },
  {
   "cell_type": "code",
   "execution_count": null,
   "metadata": {},
   "outputs": [],
   "source": [
    "from probafcst.backtest import backtest, get_window_params\n",
    "\n",
    "window_params = get_window_params(\n",
    "    n_years_initial_window=3,\n",
    "    step_length_days=30,\n",
    "    forecast_steps_days=7,\n",
    "    freq=freq,\n",
    ")\n",
    "window_params"
   ]
  },
  {
   "cell_type": "code",
   "execution_count": null,
   "metadata": {},
   "outputs": [],
   "source": [
    "results, metrics, predictions, add_metrics = backtest(\n",
    "    forecaster,\n",
    "    y,\n",
    "    **window_params,\n",
    "    quantiles=quantiles,\n",
    "    backend=\"loky\",\n",
    "    splitter_type=\"sliding\",\n",
    ")"
   ]
  },
  {
   "cell_type": "code",
   "execution_count": null,
   "metadata": {},
   "outputs": [],
   "source": [
    "add_metrics"
   ]
  },
  {
   "cell_type": "code",
   "execution_count": null,
   "metadata": {},
   "outputs": [],
   "source": [
    "# visualize some forecasts\n",
    "idx = [0, len(results) // 2, -1]\n",
    "for i, (_, row) in enumerate(predictions.iloc[idx].iterrows()):\n",
    "    fig, _ = plot_quantiles(row.y_test, row.y_pred_quantiles)"
   ]
  },
  {
   "cell_type": "code",
   "execution_count": null,
   "metadata": {},
   "outputs": [],
   "source": []
  }
 ],
 "metadata": {
  "kernelspec": {
   "display_name": ".venv",
   "language": "python",
   "name": "python3"
  },
  "language_info": {
   "codemirror_mode": {
    "name": "ipython",
    "version": 3
   },
   "file_extension": ".py",
   "mimetype": "text/x-python",
   "name": "python",
   "nbconvert_exporter": "python",
   "pygments_lexer": "ipython3",
   "version": "3.10.13"
  }
 },
 "nbformat": 4,
 "nbformat_minor": 2
}
